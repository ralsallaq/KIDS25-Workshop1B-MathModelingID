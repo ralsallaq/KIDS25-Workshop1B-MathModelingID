{
 "cells": [
  {
   "cell_type": "markdown",
   "id": "201c6057-985e-4fe1-927d-e25f75d6f100",
   "metadata": {},
   "source": [
    "# Mathematical Modeling of Infectious Diseases"
   ]
  },
  {
   "cell_type": "markdown",
   "id": "8db0dade-0cf3-44bb-8b63-1d91db6afdb1",
   "metadata": {},
   "source": [
    "## Mathematical modeling\n",
    "* What is mathematical modeling? ( Trying to capture the essence of a complex system via mathematical formulae ). to think about systems in a mathematical sense; a simplification of these complex systems in a mathematical formula.\n",
    "* Oh that reminds me of the regression line through data points, is that what you are talking about? ( Yes, that is a type of a mathematical model; however for infectious disease we have x-axis as time and y-axis can be the prevalence or the incidence of the disease in the population, but the relationship is far from linear) However, ID are complicated and not that simple. \n",
    "* Why would we want to do a mathematical modeling? (Often we cannot answer important questions that can guide descision-making on complex systems in our own, we need a tool to capture the essence and we can then formulate our question in mathematical form to get the answer we need) WE can use mathematical models to make predicitions ourside of our dataset/knowledge. "
   ]
  },
  {
   "cell_type": "markdown",
   "id": "cda43994-b630-4b69-b7ba-8e6239ac1ace",
   "metadata": {},
   "source": [
    "## Infectious Diseases\n",
    "\n",
    "* What is an infectious disease? (A disease that can spread from a person to another).\n",
    "* Is diabetes an infectious disease? Can you list four infectious diseases?\n",
    "* How does an infectious disease spread? (contact: physical proximity, sexual intercourse, blood transfusions, needle-sharing, ..etc)\n",
    "* COVID-19 is spread through physical proximity so there is the notion of physical **contact** between infected and uninfected individuals.\n",
    "* Super infection: when two infected people make contact, and get infection 2X\n",
    "* If you have a population of 10 persons that are secluded in a deserted island, assuming everyone is in contact with everyone how many contacts do you estimate among those people? (a contact needs two different people, the first can be chosen from 10 and the second from 9, but because the order is immaterial = $\\frac{10\\times9}{2!} = 5\\times9 = 45$ contacts).\n",
    "* If 3 of the 10 persons have the flu, how many contacts do you estimate between those who have the flu and those who do not have it?\n",
    "* Also there is the notion of **infectiousness** which is when an infected individual can infect others when they are in contact.\n",
    "* Infectiousness of COVID-19 is not uniform over the course of the infections, see below:\n"
   ]
  },
  {
   "cell_type": "code",
   "execution_count": 1,
   "id": "51fd1a96-04a4-49ee-8099-9409e94e6fd4",
   "metadata": {},
   "outputs": [
    {
     "name": "stdout",
     "output_type": "stream",
     "text": [
      "Stankiewicz Karita HC, Dong TQ, Johnston C, et al. Trajectory of Viral RNA Load Among Persons With Incident SARS-CoV-2 G614 Infection (Wuhan Strain) in Association With COVID-19 Symptom Onset and Severity. JAMA Netw Open. 2022;5(1):e2142796. \n"
     ]
    },
    {
     "ename": "FileNotFoundError",
     "evalue": "[Errno 2] No such file or directory: 'assets/Figs/COVID-19_viral_load.png'",
     "output_type": "error",
     "traceback": [
      "\u001b[31m---------------------------------------------------------------------------\u001b[39m",
      "\u001b[31mFileNotFoundError\u001b[39m                         Traceback (most recent call last)",
      "\u001b[36mCell\u001b[39m\u001b[36m \u001b[39m\u001b[32mIn[1]\u001b[39m\u001b[32m, line 5\u001b[39m\n\u001b[32m      3\u001b[39m \u001b[38;5;66;03m# Show COVID-19 infectiousness\u001b[39;00m\n\u001b[32m      4\u001b[39m \u001b[38;5;28mprint\u001b[39m(\u001b[33m\"\u001b[39m\u001b[33mStankiewicz Karita HC, Dong TQ, Johnston C, et al. Trajectory of Viral RNA Load Among Persons With Incident SARS-CoV-2 G614 Infection (Wuhan Strain) in Association With COVID-19 Symptom Onset and Severity. JAMA Netw Open. 2022;5(1):e2142796. \u001b[39m\u001b[33m\"\u001b[39m)\n\u001b[32m----> \u001b[39m\u001b[32m5\u001b[39m \u001b[38;5;28;01mwith\u001b[39;00m \u001b[43mImage\u001b[49m\u001b[43m.\u001b[49m\u001b[43mopen\u001b[49m\u001b[43m(\u001b[49m\u001b[33;43m'\u001b[39;49m\u001b[33;43massets/Figs/COVID-19_viral_load.png\u001b[39;49m\u001b[33;43m'\u001b[39;49m\u001b[43m)\u001b[49m \u001b[38;5;28;01mas\u001b[39;00m i:\n\u001b[32m      6\u001b[39m \tdisplay(i)\n",
      "\u001b[36mFile \u001b[39m\u001b[32m~/.myven/lib/python3.12/site-packages/PIL/Image.py:3493\u001b[39m, in \u001b[36mopen\u001b[39m\u001b[34m(fp, mode, formats)\u001b[39m\n\u001b[32m   3491\u001b[39m \u001b[38;5;28;01mif\u001b[39;00m is_path(fp):\n\u001b[32m   3492\u001b[39m     filename = os.fspath(fp)\n\u001b[32m-> \u001b[39m\u001b[32m3493\u001b[39m     fp = \u001b[43mbuiltins\u001b[49m\u001b[43m.\u001b[49m\u001b[43mopen\u001b[49m\u001b[43m(\u001b[49m\u001b[43mfilename\u001b[49m\u001b[43m,\u001b[49m\u001b[43m \u001b[49m\u001b[33;43m\"\u001b[39;49m\u001b[33;43mrb\u001b[39;49m\u001b[33;43m\"\u001b[39;49m\u001b[43m)\u001b[49m\n\u001b[32m   3494\u001b[39m     exclusive_fp = \u001b[38;5;28;01mTrue\u001b[39;00m\n\u001b[32m   3495\u001b[39m \u001b[38;5;28;01melse\u001b[39;00m:\n",
      "\u001b[31mFileNotFoundError\u001b[39m: [Errno 2] No such file or directory: 'assets/Figs/COVID-19_viral_load.png'"
     ]
    }
   ],
   "source": [
    "from IPython.display import display,HTML\n",
    "from PIL import Image\n",
    "# Show COVID-19 infectiousness\n",
    "print(\"Stankiewicz Karita HC, Dong TQ, Johnston C, et al. Trajectory of Viral RNA Load Among Persons With Incident SARS-CoV-2 G614 Infection (Wuhan Strain) in Association With COVID-19 Symptom Onset and Severity. JAMA Netw Open. 2022;5(1):e2142796. \")\n",
    "with Image.open('assets/Figs/COVID-19_viral_load.png') as i:\n",
    "\tdisplay(i)"
   ]
  },
  {
   "cell_type": "markdown",
   "id": "6fe7d32a-4cf6-409f-9f2f-3c77f0f72178",
   "metadata": {},
   "source": [
    "#### Questions\n",
    "\n",
    "Q1. What is the measure of infectiousness that is used here? Does it make sense?\n",
    "Viral Load\n",
    "Q2. Focus on the black curve, what day after the onset of infection the infectiousness is the highest? \n",
    "day 3-4\n",
    "Q3. How many stages of infectiousness can you split the black curve to?\n",
    "3 stages\n",
    "Q4. Are you aware of any measures/intervetnions that can reduce infectiousness of infected individuals?\n",
    "Masking, therapeutics\n",
    "Q4. What do you think about assuming that all infected persons with COVID-19 have the same infectiousness and that it is uniform during the 2-3 week of COVID-19 infection period (step function of infectiousness)  \n"
   ]
  },
  {
   "cell_type": "markdown",
   "id": "4e8cdbb8-8be8-4d0c-a2cb-90cac789ebc9",
   "metadata": {},
   "source": [
    "## PROBLEM: COVID-19 in Zalatola!\n",
    "In a country far far away named Zalatola, with a population of 10,000, first reports of covid-19 cases came in September 12, 2020, however health officials started to collect data every 10 days on the number of people infected after 20 days from these initial reports. The following data was collected:\n",
    "\n",
    "| days after 9/12/2020 | number of infected |\n",
    "|------|--------------------|\n",
    "| 20   |   105               |\n",
    "| 30   |   796              |\n",
    "| 40   |   3385             |\n",
    "\n",
    "\n",
    "Your task during this workshop is to answer the following questions which Zalatola official need to know to decide on the approperiate policy for intervention\n",
    "1. Is there an outbreak in Zalatola (i.e. would COVID-19 spread in Zalatola)? If so how much is the expected maximum number of infections and how does the outbreak look like over time? \n",
    "2. Would the number of infected individuals ever exceed 3900? If so at what time?\n",
    "3. Health officials are pondering if a 10 day lockdown starting on day 40 would reduce the maximum number of infected below 3900 as the hospitals combined capacity in Zalatola is 3900. If 10 days would not do it, how many days would do it?\n",
    "4. What is the maximum number of infected individuals if a fully effective vaccine was available and 50% of Zalatola population were vaccinated before Septemebr 12,2020?\n",
    "\n",
    "**How are we going to answer?**"
   ]
  },
  {
   "cell_type": "markdown",
   "id": "528afb2e-7e10-4a1f-a1e3-7fdb3a8b831b",
   "metadata": {},
   "source": [
    "## Mathematical modeling of an infectious disease\n",
    "* Captures the trajectory of a disease in a population through mathematical formulation.\n",
    "* We picture a population that has infected and uninfected individuals with new infected individuals are generated through the contact between the infected and the uninfected.\n",
    "* Those new infections obviously move from being uninfected to being infected.\n",
    "* The infected individuals are infectious and their infectiousness can be in stages. \n",
    "* Assuming the infection is non-fatal, eventually infected individuals recover. \n",
    "* We need to know the pathogenesis (stages) of the disease and may be the duration of each.\n",
    "* We need to think about the population as individuals that enter, spend time within and leave each of these states (uninfected/infected/recovered).\n",
    "* This category of mathematical models that tracks the population movement in various states is called **Compartmental Model**\n",
    "* For simplicity let us assume that COVID-19 is a one stage disease, then a plausible mathematical model would consist of three compartments:\n",
    "  1. Suceptible: uninfected but can be infected\n",
    "  2. Infected: can spread the disease to the susceptible.\n",
    "  3. Recovered: previously infected but no longer is spreading the disease (immune).\n",
    "* It is called SIR model."
   ]
  },
  {
   "cell_type": "markdown",
   "id": "1aa1c640-58ee-45b1-8f5a-ab6e5d8c98e4",
   "metadata": {},
   "source": [
    "# SIR model\n",
    "**Assumptions: the real workd is so complex, we need to simplify**\n",
    "1. Mass action: infected individual has a contact with every uninfected individual.\n",
    "2. People either fully recover from COVID-19 with life-long immunity or they die of infection.\n",
    "3. People infected with COVID-19 are fully infectious during the duration of infection (step function of infectiousness).\n",
    "4. For simplicity we assume that the excessive death rate from COVID-19 is negligible compared to the rate of natural death.\n",
    "5. Ignore demographic changes (births=natural deaths, no immigrations, ..etc) ==> fixed population size.\n",
    "6. Ignore gender, age, geographical and demographical effects on COVID-19 prognosis ==> everyone experience the same disease upon infection.   \n",
    "\n",
    "Imagine that the population of Zalatola at any given time can be split across three compartments:\n",
    "1. **S**ucebtiple (uninfected but can be infected) ==> $S$\n",
    "2. **I**nfected and infectious ==> $I$\n",
    "3. **R**emoved (cannot circulate infection): this compartment encompasses those who have been infected and then recovered and cannot be infected or infect others again so they got life-long immunity. ==> $R$\n",
    "\n",
    "# Flowchart representation of the SIR model"
   ]
  },
  {
   "cell_type": "code",
   "execution_count": 2,
   "id": "dcc640a5-ee1d-4ec1-9b0a-2ae687a4adc7",
   "metadata": {
    "scrolled": true
   },
   "outputs": [
    {
     "data": {
      "image/png": "[encoded data removed]",
      "text/plain": [
       "<PIL.PngImagePlugin.PngImageFile image mode=P size=1274x358>"
      ]
     },
     "metadata": {},
     "output_type": "display_data"
    }
   ],
   "source": [
    "from IPython.display import display,HTML\n",
    "from PIL import Image\n",
    "# Show SIR flowchart\n",
    "with Image.open('assets/Figs/SIRFlowChart.png') as i:\n",
    "\tdisplay(i)"
   ]
  },
  {
   "cell_type": "markdown",
   "id": "fcf03076-6e3a-4211-8ea9-7a87d5837642",
   "metadata": {},
   "source": [
    "# Writing down the mathematical model\n",
    "### The S-equation:\n",
    "The susceptibles have only one arrow comming out of their compartment, this means the compartment is losing population and the rate of change of the $S$ population with time will be negative. The susceptible individuals who get infected move to the infected compartment. The rate at which susceptible population $S$ get infected by infected population $I$ is proportional to the number of **potentially infectious contacts** $S\\times I$. Potentially because not all infectious contacts leads to transmission, only a fraction per unit time $\\beta$ would. Thus, $\\beta S I$ would be the number of transmissions (new infections) per unit time. Transmission of infection makes individuals move from the $S$ to the $I$ compartment. **Notice** that we did not incorporate birth of new $S$ individuals, had we done that an arrow would be entering the $S$ compartment. ($\\beta$ = number of new infections per contact per unit time)\n",
    "\n",
    "$\\frac{dS}{dt} = -\\beta S I$\n",
    "\n",
    "### The I-equation\n",
    "We now know that the arrow going to the $I$ compartment represent the flux of new infecteds $-\\beta S I$ what about the flux out of the $I$ compartment?\n",
    "Obviously this would represent the flux of the recovered from infection (those who become immune), let us assume that the average duration of infection (and infectiousness) is $\\tau$ ($\\tau \\ne 0$) then the rate of recovery would be $\\frac{1}{\\tau}$\n",
    "\n",
    "$\\frac{dI}{dt} = +\\beta SI - \\frac{1}{\\tau} I$\n",
    "\n",
    "### The R-equation\n",
    "Now the $R$ compartment only have one arrow coming into it which is the flux of individuals out of the $I$ compartment:\n",
    "\n",
    "$\\frac{dR}{dt} = +\\frac{1}{\\tau} I$\n",
    "\n",
    "### Fixed population size\n",
    "Sum the above equations:\n",
    "\n",
    "$\\frac{d(S+I+R)}{dt} \\equiv \\frac{dN}{dt} = 0$\n",
    "\n",
    "Which highlights our assumtion that\n",
    "\n",
    "$N = S + I + R = constant$\n",
    "\n",
    "### Question: \n",
    "How the flowchart would change if birth and death from both natrual causes as well as excessive death from COVID-19 are all incorporated? Can you write the equations according to these changes? How does the rate of change $\\frac{dN}{dt}$ look like with these additions? Does that make sense? (Hint: make the rate of natrual birth and death equal to $\\mu$, and notice that $\\mu N$ would represent the number of susceptible population born per unit time)\n",
    "\n",
    "# The model \n",
    "The three interdependent differential equations are called system of differential equations:\n",
    "\n",
    "$\\frac{dS}{dt} = -\\beta S I$\n",
    "\n",
    "$\\frac{dI}{dt} = +\\beta S I - \\frac{1}{\\tau} I$\n",
    "\n",
    "$\\frac{dR}{dt} = +\\frac{1}{\\tau} I$\n",
    "\n",
    "## The basic reproduction number\n",
    "\n",
    "One interesting question is what condition should be satisfied at the start of an epidemic such that we do not have new infections that is what condition to make $\\frac{dI}{dt}<0$\n",
    "\n",
    "Remember at $t_0$ $S = S_0 \\sim N$, $I_0 = 1$, $R_0 = 0$, let us focus on the infectious equation:\n",
    "\n",
    "$\\frac{dI}{dt} = \\beta S_0-\\frac{1}{\\tau}$\n",
    "\n",
    "This indicates that the initial value $\\frac{dI}{dt}$ will be \n",
    " 1. positive (growing new infections) iff: $\\beta \\tau S_0 > 1$\n",
    " 2. negative (decaying new infections) iff: $\\beta \\tau S_0 < 1$\n",
    "\n",
    "\n",
    "The quantity deciding the fate of the epidemic is called the basic reporiduction number or $\\mathbb{R_0}$ (please do not confuse it with the recovered at time zero!). \n",
    "\n",
    "Basic reprodcution number $\\equiv \\mathbb{R_0} = \\beta \\tau S_0$\n",
    "\n",
    "It is defined as the number of secondary infections that one infectious individual would generate within the duration of infection. If you think about it $\\beta S_0$ is the number of new infections per unit time by 1 infectious individual at the start of the epidemic (Hint $1\\times S_0$ = number of infectious contacts). Thus, $\\beta S_0\\times\\tau$ = number of new infections by an infectious individual during the course of infection.\n",
    "\n",
    "## Interventions based on the mathematical model\n",
    "The fate of the epidemic for a given population with initially $S_0$ uninfected individuals is dependent on $\\tau$, $\\beta$ and $S_0$. The higher one or more of these parameters the more likely an outbreak will take off. Conversely, the lower these parameters, the less likely an outbreak will take off (desirable). \n",
    "So strategies of intervening to break transmission usually focus on:\n",
    "1. reducing $\\beta$ and/or\n",
    "2. reducing $\\tau$ and or\n",
    "3. reducing $S_0$\n",
    "\n",
    "#### Questions: \n",
    "\n",
    "Q1. Imagine that at the start the entire population get vaccinated with 100% effcacious vaccine what would this do to $S_0$?\n",
    "\n",
    "Q2. If an infection started in a population with a fraction $f$ of the population is vaccinated by 100% protective vaccine, what would be the basic reproduction number in this case? (Hint the infectious contacts for the infected individual = $1\\times(1-f)S0$)\n",
    "\n",
    "Q3. What would be the effect of lock downs?\n",
    "\n",
    "Q4. What startegy would you suggest to decrease $\\beta$? (Hint: think for example what infected and uninfected individuals should do to reduce the probability of transmission in a contact)\n",
    "\n",
    "Q5. Can any intervention alter the duration of infectiousness $\\tau$? What is it and how it does that?\n",
    "\n",
    "\n",
    "# Solving the mathematical model\n",
    "\n",
    "* By solving the mathematical model we mean solving for the three state variables $S(t)$ $I(t)$ $R(t)$ for any given values for model parameters: $\\beta$, $\\tau$.\n",
    "* First we need to define the time variable. What do we choose of the unit time? (seconds, minutes, hours, days, weeks, months, ...etc).\n",
    "* You want the unit time to be as small as possible but also you want to have it large enough for observable changes.\n",
    "* For a disease such as COVID-19, a unit time of **days** would be good.\n",
    "* To solve, we are going to use odeint (ODE integration) from the python package **SCIPY**, which takes a function defining the instantaneous rate of change for the system of differential equations, array of time to integrate over and model paramters. "
   ]
  },
  {
   "cell_type": "code",
   "execution_count": 2,
   "id": "451983e5-1d18-4e57-b528-f4a376480917",
   "metadata": {},
   "outputs": [
    {
     "name": "stdout",
     "output_type": "stream",
     "text": [
      "720 720\n"
     ]
    }
   ],
   "source": [
    "# Setting up things by importing necessary modules\n",
    "%matplotlib widget\n",
    "import numpy as np\n",
    "import matplotlib.pyplot as pl\n",
    "from ipywidgets import interactive, FloatSlider\n",
    "import seaborn as sbs\n",
    "sbs.set()\n",
    "sbs.set_context('notebook')\n",
    "# Setting up the time span covered by the model\n",
    "years = 2\n",
    "max_time_days = years*12*30\n",
    "number_intervals = max_time_days\n",
    "tt = np.linspace(0, max_time_days, number_intervals)\n",
    "print(len(tt), max_time_days)"
   ]
  },
  {
   "cell_type": "code",
   "execution_count": 3,
   "id": "5194c763-9109-472a-8b9a-c53becaac424",
   "metadata": {},
   "outputs": [
    {
     "name": "stdout",
     "output_type": "stream",
     "text": [
      "(720, 3)\n"
     ]
    }
   ],
   "source": [
    "from scipy.integrate import odeint\n",
    "# First we define the instantaneous rate of change\n",
    "def dStatedt(y, t, beta, tau):\n",
    "    \"\"\"\n",
    "       Function defining the rate of change of\n",
    "       state variables: S, I, R at time t\n",
    "       Args:\n",
    "         y --> array of size 1x3 defining the values at t\n",
    "         t --> time at which to calculate the rate of change\n",
    "         beta, tau, .. --> model paramters\n",
    "       Output: tuple (dS/dt, dI/dt, dR/dt) at t\n",
    "    \"\"\"\n",
    "    # y is a numpy array/list with S=y[0], I=y[1], R=y[3]\n",
    "    S, I, R = y\n",
    "    dS_dt = -beta * S * I\n",
    "    # Notice we are writing this for computers, we need to make sure \n",
    "    # no division by zero is encountered.\n",
    "    if tau <= 1e-12:\n",
    "        tau = 1E-5\n",
    "    dI_dt = beta * S * I - 1/tau * I\n",
    "    dR_dt = 1/tau * I\n",
    "    return [dS_dt, dI_dt, dR_dt]\n",
    "\n",
    "# Initial conditions\n",
    "N = 10000  # Total population\n",
    "I0 = 1    # Initial infected\n",
    "R0 = 0    # Initial recovered\n",
    "S0 = N - I0 - R0 # Initial susceptible\n",
    "\n",
    "beta = 0.00003  # Infection rate\n",
    "tau = 14 # Duration of infection in days\n",
    "\n",
    "# Solve using scipy odeint!\n",
    "y0 = [S0, I0, R0]\n",
    "State_t = odeint(dStatedt, y0, tt, args=(beta, tau))\n",
    "# State_t is a numpy array with number of columns = len(y0) and number of rows = len(tt)\n",
    "print(State_t.shape)\n",
    "S_t = State_t[:, 0]\n",
    "I_t = State_t[:, 1]\n",
    "R_t = State_t[:, 2]"
   ]
  },
  {
   "cell_type": "code",
   "execution_count": 4,
   "id": "77c5b479-ac65-4a7b-a1b6-65c3bdffba71",
   "metadata": {},
   "outputs": [
    {
     "data": {
      "application/vnd.jupyter.widget-view+json": {
       "model_id": "5f3b1e2d7942407c8dede1f88e3921f6",
       "version_major": 2,
       "version_minor": 0
      },
      "image/png": "[encoded data removed]",
      "text/html": [
       "\n",
       "            <div style=\"display: inline-block;\">\n",
       "                <div class=\"jupyter-widgets widget-label\" style=\"text-align: center;\">\n",
       "                    Figure\n",
       "                </div>\n",
       "                <img src='data:image/png;base64,iVBORw0KGgoAAAANSUhEUgAAAoAAAAHgCAYAAAA10dzkAAAAOnRFWHRTb2Z0d2FyZQBNYXRwbG90bGliIHZlcnNpb24zLjEwLjcsIGh0dHBzOi8vbWF0cGxvdGxpYi5vcmcvTLEjVAAAAAlwSFlzAAAPYQAAD2EBqD+naQAAYwpJREFUeJzt3Xl8lPW9//3XNWsmy2Qj7GtQEBAEtCIFUxWrBa32brVSzykqVG2PyoHqfVB+rqf+1HqsWleWorW1rcetp7eK1FY9piDaVnHBDSVh38kySWaS2a77j1mSISyTdWYy7+fjwSPJNddc850vE3n7+S6XYZqmiYiIiIhkDUuqGyAiIiIivUsBUERERCTLKACKiIiIZBkFQBEREZEsowAoIiIikmUUAEVERESyjAKgiIiISJZRABQRERHJMgqAIiIiIllGAVBEREQkyygAioiIiGQZBUARERGRLKMAKCIiIpJlFABFREREsowCoIiIiEiWUQAUERERyTIKgCIiIiJZxpbqBmQy0zQJh00ALBYj/r0cnfoqeeqr5Kmvkqe+Sp76Knnqq+RZLAaGYaS0DQqAXRAOm9TUNGGzWSguzsPj8RIMhlPdrLSmvkqe+ip56qvkqa+Sp75KnvqqY0pK8rBaUxsANQQsIiIikmUUAEVERESyjAKgiIiISJZRABQRERHJMgqAIiIiIllGAVBEREQkyygAioiIiGQZBUARERGRLKMAKCIiIpJlFABFREREsowCoIiIiEiW6fYAuHXrVm699VYuvPBCxo8fz/nnn3/Y85577jnOPfdcJk6cyAUXXMCbb77Z7pyGhgaWLl3KqaeeypQpU1i4cCH79u1rd97777/PJZdcwqRJkzjzzDNZsWIFppl4Q2rTNFmxYgVnnHEGkyZN4pJLLuGDDz7olvcsIiIikkm6PQB++eWXvPXWW4wYMYLRo0cf9pxXXnmFW265hdmzZ7Ny5UomT57Mtdde2y6QLVq0iHXr1nH77bdz3333UV1dzZVXXkkwGIyfs3XrVhYsWEBZWRnLly/nsssu46GHHuKJJ55IuNbKlSt56KGHuPzyy1m+fDllZWXMnz+f7du3d3cXiIiIiKQ1W3df8KyzzuLss88G4MYbb2Tjxo3tznnooYc477zzWLRoEQCnnXYamzZt4tFHH2XlypUAbNiwgbVr17Jq1SpmzpwJwKhRo5gzZw6vvfYac+bMAWDVqlUUFxdz//3343A4mD59OjU1NSxbtowf/vCHOBwOWlpaWL58OfPnz+fyyy8H4OSTT+Zb3/oWq1at4vbbb+/ubhARERFJW91eAbRYjn7J7du3s2XLFmbPnp1wfM6cOaxfvx6/3w9AZWUlbrebGTNmxM8pLy9n3LhxVFZWxo9VVlYya9YsHA5HwrU8Hg8bNmwAIkPEjY2NCa/pcDj45je/mXAtERERkWzQ64tAqqqqgEg1r63Ro0cTCATiQ7JVVVWMGjUKwzASzisvL49fw+v1snv3bsrLy9udYxhG/LzY10PPGz16NLt27aK5ublL78nT5OdAnY8Grx9/INRu/qGIiIhIOun2IeBjqa+vB8Dtdiccj/0ce9zj8VBQUNDu+YWFhfFh5YaGhsNey+Fw4HK5Eq7lcDhwOp3tXtM0Terr68nJyenU+/lkSw33P/MBh0Y+h81Cfq6dEncO/YtclA92c9zQQkYNcrcLtdnEarUkfJUjU18lT32VPPVV8tRXyVNfdUw6xIBeD4B9icViMHRQIaVFLuoamgmGWmOgPximxtNCjaeFr3bU8/bGPQAMLM3lvBmjOG9GOXZb9v6iuN2uVDchY6ivkqe+Sp76Knnqq+SprzJHrwfAwsJCIFK9Kysrix/3eDwJj7vdbvbs2dPu+fX19fFzYhXCWCUwxu/34/P5Eq7l9/tpaWlJqAJ6PB4Mw4if11HhsElpnp1f/vvpuN0uauua8DUH8QdC+ANhPF4/NZ5mdu5vYvMuD19sq2XPQS+r/r9PWL2ump9850RGDnIf+4X6EKvVgtvtwuPxEQqFU92ctKa+Sp76Knnqq+Spr5KnvuqYwkLXMddM9LReD4CxeXhVVVUJc/Kqqqqw2+0MGzYsft769esxTTNhyLS6upoxY8YAkJuby6BBg+Jz/NqeY5pm/Pqxr9XV1ZxwwgkJrzl48OBOD/8CBINtPugm2K0W7FYLeTlQXOBkxIACphwfCbot/hDvfLqHP1ZWsfuglzuf+ieLLj6JE0YUd/r1M1UoFE7sOzki9VXy1FfJU18lT32VPPVVctJhqUCvx89hw4YxcuRI1qxZk3B89erVTJ8+Pb6at6Kigvr6etavXx8/p7q6mk8//ZSKior4sYqKCl5//XUCgUDCtdxuN1OmTAFg6tSp5Ofn8+qrr8bPCQQCvPbaawnX6mlOh5VvTB7CXVedxoSRxfiDYR5+8SP21nh7rQ0iIiIi3V4B9Pl8vPXWWwDs3LmTxsbGeNg79dRTKSkp4brrruOGG25g+PDhTJs2jdWrV/PRRx/x9NNPx68zZcoUZs6cydKlS1myZAlOp5MHHniAsWPHcs4558TPW7BgAS+99BLXX389P/jBD9i0aROrVq1i8eLF8TDpdDq5+uqrefjhhykpKWHMmDH84Q9/oK6ujgULFnR3FxxTbo6dhRdN4r/+8AFf7aznVy9/yk0/PBlLOswKlaSFzTCmaRLGjHw1w5jR7802y4Lafp/47eH/FzB23BayYPiC1Ld4CQbNhCcf8blH+N/KI53fV9isFkKOFup9XoIafjoq9VXy1FfJU191TJHpwpriu/EaZjfvWbJjxw5mzZp12Md+85vfMG3aNCByK7iVK1eya9cuRo0axU9/+lPOPPPMhPMbGhq4++67+ctf/kIwGGTmzJncfPPNDBgwIOG8999/n3vuuYfPPvuMkpIS/uVf/oUrr7wyYeg4diu43//+99TU1DBu3DhuuummeJWwM0KhMDU1TdhsFoqL86itbepQ6bvG08zNv3qXZn+IK+acwOmTBne6LZmis32VjGA4SGOgCY+/gQZ/I00BL83BFlpCLTQHm2kOtUT+BFsIhAMEw0GC4RBBM0goHIr+HCRoRr4Pm2HCponJ4YOeiIhIZzx83s8YkN8vpW3o9gCYTboaAAFefXcrz725mX6FOdx11WnY+vgS+q70lWma1Ps97GzczX7fQQ7E/9RQ3+LBG/T1UKtTw+DwFeHDbSPU9lwj8eRublX6MkCxPEnqq+Spr5Knvkreg7Nvo3+KA6C2gUmxs6YO5c/vbuNAfTMffHmAU07on+ompQ1/KEBV/Ra+rN3MtoadbG/YSUOg8ajPsRgWCux5FDgKyLPnkmPLIcfqJMfmxGl14rLm4LQ5cVjsWC1WbBYbdosNqxH53maxYYt+bzUsGIaBgQWLYWAYBhbDgkH0e2KPG9HHLViijyUEsiOEsGOd05PV0r5GfZU89VXy1FfJU191TIkrL9VNUABMNafdSsXkwbz89lb+94OdWR8AG/yNfLD/Yzbs+5jN9VsIhoMJjxsYDMjrT39XP/q5SihzldLPVUqRsxC3o4BcuwuL0berqCIiIl2lAJgGKiZFAuBnW2qpb2yhMN957Cf1IWEzzMcHPuVvO9/hi9qvCJut//dY6HAztuQ4RrlHMKxgCEPyB+KwOo5yNRERETkWBcA00K/IxahBbqp3e3j/ywOcOWVIqpvUK0LhEOt2/Z2/bnuLg8018ePDC4Ywtf9JTOw3ngG5ZVl96zwREZGeoACYJk4ZW0b1bg8bvtzf5wOgaZq8t+dDXvxyNQd8BwHIs+UyY8g0pg86hf65Zce4goiIiHSFAmCaOLG8lOf+dzObttcRDIX77Grg2uY6lq99ivd3fQxAgSOfb42YxdcHf01DuyIiIr1EATBNDCnLoyDXToM3QNUuD2OGFaW6Sd3uw/0b+c1nz9IcbMZqWDlnxJmcPfwb5Niya86jiIhIqikApgmLYXDC8GL+8fk+vthW26cCYNgM83LVa/x56xsAHF8ykktPuIj+Odm94llERCRVFADTyOghhfzj831U725IdVO6TSgc4qlPn+G9fR8CMGv46SyYdgkN9c3aK0pERCRFFADTSPkgNwBVu+oxTTPjV78GwkGe2Pg7PjrwCVbDyr+Ou5ivDz0Fm8Wa6qaJiIhktb650iBDDR+Qj9Vi4PEGOOhpTnVzuiRshuPhz26xcdXEeZw6cGqqmyUiIiIoAKYVh93KoNLI7WG27zv6Lc/S3R+/eoWPDnyCzWLjJ5Pmc2K/calukoiIiEQpAKaZof0jAXDn/qYUt6TzKnes543tfwNg3rjvM7bkuBS3SERERNpSAEwzQ8vyAdixPzMrgFs823juyz8B8O3yczl5wOTUNkhERETaUQBMM0P6RSuABzKvAugLNvPkxt8TNsNMKZvIuSPOSnWTRERE5DAUANNMLADuOeglHDZT3JqO+eNXL3OguYaSnGIuPeGijF/FLCIi0lcpAKaZEncONqtBKGxm1ErgL2s3s27X34HIvL9cuyvFLRIREZEjUQBMMxaLQVlRJDztrfWmuDXJCYaD/OGLFwGYMfhUji8eneIWiYiIyNEoAKahAcW5AOyr9aW4Jcn528532OvdT4E9n++MnpPq5oiIiMgxKACmof7F0QpgTfoHQG/Ax6vVfwXgvPJzyLXnprhFIiIiciwKgGloQEkkRO2vS/8A+Ndtb9EU9DIwbwBfH/S1VDdHREREkqAAmIZK3TkAab8IpCng5a0d6wC4oPxcrLrHr4iISEZQAExDpW4nAAfr0zsAvrl9Lc2hFobkD2JSvwmpbo6IiIgkSQEwDZVEK4DeliC+lmCKW3N4zcEW/jda/fvWyFna809ERCSDKACmIZfTRl6ODYCaNB0G/vue9/AFffR39WNy2Ympbo6IiIh0gAJgmiqJzwNsSXFL2gubYf53x9sAfGPoDCyGPkYiIiKZRP9yp6l0XgjyRc1X7PXuI8fqZNqgk1PdHBEREekgBcA0VVQQWQhS15B+FcC1u94FYNqgU3DZclLcGhEREekoBcA0VZTvAKC+Kb0CYKO/iY8PfApEbvsmIiIimUcBME0V5UcrgI3+FLck0T/3fkDIDDEsfzBD8gelujkiIiLSCQqAaaowL1IBrGtMrwrgO3v+CcBpuuuHiIhIxlIATFOxCmB9GlUA9zTtY3vDTiyGhVMGTE51c0RERKSTFADTVGwOoMfrJxw2U9yaiA37PgbghJLjyXfkpbg1IiIi0lkKgGmqINeBYYBpRkJgOtiw/yMAppRNSnFLREREpCsUANOUxWLgjs4DTIdh4L3e/exs3I3FsHBSme77KyIikskUANNYgSsSABvSoAL4QXT4d2zxceTZc1PcGhEREekKBcA05s6zA+kxBLzx4GcAnKT7/oqIiGQ8BcA0VpAbqwAGUtqOxkAT1fXbADix9ISUtkVERES6TgEwjRW4IhXAVAfATw9+gYnJkPxBFOcUpbQtIiIi0nUKgGmsIDcWAFM7BPzJwc8BmKDqn4iISJ+gAJjGCvJSPwQcNsN8dnAToAAoIiLSVygAprF0WAW8o2EXTUEvOdYcRrmHp6wdIiIi0n0UANNY6xBw6iqAX9R+BcDxxaOwWqwpa4eIiIh0HwXANBYPgL7UVQA31W0GYEzxcSlrg4iIiHQvBcA0lh9dBexrCREMhXv99UPhEF/VVQORDaBFRESkb1AATGO5Obb4996WYK+//taG7fhDfvLsuQzKG9Drry8iIiI9QwEwjVktFnKdkRDY5Ov9eYCbaqPDv0WjsRj6qIiIiPQV+lc9zeW5YgGw9yuAm+u3AHBcUXmvv7aIiIj0HAXANJeXE5kH2NjcuxXAsBmO3/6tvHBEr762iIiI9CwFwDSXF10I0ttDwHu9+/EFfTgsdobkD+rV1xYREZGepQCY5vKiC0Gamnt3CLgqOvw7wj1M+/+JiIj0MQqAaS4/RRXAqvqtAJQXjuzV1xUREZGepwCY5lI1B1Dz/0RERPouBcA0l4o5gN6Al73efQCMLNT9f0VERPoaBcA0F5sD6O3FOYDbGnYC0C+nhHx7Xq+9roiIiPQOBcA054puBO3z92YA3AHAMPfQXntNERER6T0KgGnO5YiswPW1hHrtNWMVwOEFQ3rtNUVERKT3KACmOVd0CNjXi/cC3u6JVACHF6gCKCIi0hcpAKa52BCwt5cCoDfg5UBzDQDDVAEUERHpkxQA01wsALb4Q4TDZo+/Xmz4tzSnhDx7bo+/noiIiPQ+BcA053LY4t8398JCkO2x+X9aACIiItJnKQCmObvNgs0a+WvqjWHgHY27ABiWP7jHX0tERERSI2UB8PXXX+fiiy9mypQpzJw5k3//939n+/bt7c577rnnOPfcc5k4cSIXXHABb775ZrtzGhoaWLp0KaeeeipTpkxh4cKF7Nu3r91577//PpdccgmTJk3izDPPZMWKFZhmzw+rdlWus/dWAu9q3APA4PyBPf5aIiIikhopCYDvvvsu1157LccddxyPPvooS5cu5fPPP2f+/Pk0NzfHz3vllVe45ZZbmD17NitXrmTy5Mlce+21fPDBBwnXW7RoEevWreP222/nvvvuo7q6miuvvJJgsLVitnXrVhYsWEBZWRnLly/nsssu46GHHuKJJ57orbfdafG9AHu4AhgMB9nr3Q/A4LxBPfpaIiIikjq2Y5/S/V555RUGDx7MXXfdhWEYAJSUlHDZZZexceNGTjnlFAAeeughzjvvPBYtWgTAaaedxqZNm3j00UdZuXIlABs2bGDt2rWsWrWKmTNnAjBq1CjmzJnDa6+9xpw5cwBYtWoVxcXF3H///TgcDqZPn05NTQ3Lli3jhz/8IQ6Ho5d7IXk5vRQA93r3EzJD5FhzKMkp6tHXEhERkdRJSQUwGAySl5cXD38ABQUFAPEh2e3bt7NlyxZmz56d8Nw5c+awfv16/H4/AJWVlbjdbmbMmBE/p7y8nHHjxlFZWRk/VllZyaxZsxKC3pw5c/B4PGzYsKH732Q3yu2lANg6/Dsg4e9GRERE+paUBMDvfve7bN68md/97nc0NDSwfft27r//fsaPH8/UqVMBqKqqAiLVvLZGjx5NIBCIzxesqqpi1KhR7QJLeXl5/Bper5fdu3dTXl7e7hzDMOLnpaveGgLe1RQNgHma/yciItKXpWQI+JRTTuGRRx7h+uuv5z//8z8BGDduHL/61a+wWiMLHurr6wFwu90Jz439HHvc4/HEq4dtFRYWsnHjRiCySORw13I4HLhcrvi1OsNms2CNrtKNfe1uudG7gbQEw9hsPZfZd0cD4FD34B57nZ7uq75EfZU89VXy1FfJU18lT33VMekwyJaSAPj+++/zH//xH3z/+9/njDPOoK6ujscee4yrrrqK3//+9+Tk5KSiWR1msRgUF+fFf3a7XT3yOsWFkeuaRuLrdbfd3r0AnDBoVI++DvRcX/VF6qvkqa+Sp75KnvoqeeqrzJGSAHjnnXdy2mmnceONN8aPTZ48mTPOOIM//elPXHLJJRQWFgKR6l1ZWVn8PI/HAxB/3O12s2fPnnavUV9fHz8nViGMVQJj/H4/Pp8vfl5HhcMmHo8Xq9WC2+3C4/ERCoU7da2jsUTnRdbU+aitber26wP4gs0c8EZuAeemqMdep6f7qi9RXyVPfZU89VXy1FfJU191TGGhC4sltdXSlATAzZs3M2vWrIRjAwcOpLi4mG3btgHE5+tVVVUlzN2rqqrCbrczbNiw+Hnr16/HNM2EeYDV1dWMGTMGgNzcXAYNGtRurl91dTWmababG9gRwWDrBz0UCif83F2c9siweFNzoEeuD7DLE6n+uR0FOI2cHnudmJ7qq75IfZU89VXy1FfJU18lT32VnHTYgjgl8XPw4MF8+umnCcd27txJbW0tQ4YMAWDYsGGMHDmSNWvWJJy3evVqpk+fHl/NW1FRQX19PevXr4+fU11dzaeffkpFRUX8WEVFBa+//jqBQCDhWm63mylTpnT7e+xOruhG0M09uBH0nqbIxtkDcsuOcaaIiIhkupRUAOfOnctdd93FnXfeyVlnnUVdXR2PP/44paWlCdu+XHfdddxwww0MHz6cadOmsXr1aj766COefvrp+DmxO4ksXbqUJUuW4HQ6eeCBBxg7diznnHNO/LwFCxbw0ksvcf311/ODH/yATZs2sWrVKhYvXpzWewBC6yrgnrwVXGwD6AF5/XvsNURERCQ9pCQAzps3D4fDwR/+8AdeeOEF8vLymDx5Mg8++CDFxcXx884//3x8Ph8rV65kxYoVjBo1ikceeaRdxe7BBx/k7rvv5tZbbyUYDDJz5kxuvvlmbLbWtzdixAhWrVrFPffcw1VXXUVJSQkLFy5k/vz5vfa+O6s39gHc641UAAfmKgCKiIj0dYaZCTfDTVOhUJiamiZsNgvFxXnU1jb1yNyHzTvr+b+/fY9+hTnc+5Ovd/v1AX727i/Y07SXa05awPjSsT3yGkCP91Vfor5Knvoqeeqr5Kmvkqe+6piSkryUb5mjDXsyQE/fCi4UDrHfewCAAaoAioiI9HkKgBmgdQg4RE8UbA821xAyQ9gtdopzOrcljoiIiGQOBcAMEFsFHDZN/IHuL63HFoD0z+2HxdBHQkREpK/Tv/YZwGm3xm8b0xMrgWNbwGgBiIiISHZQAMwAhmHgcvTcPMB90fl//bUHoIiISFZQAMwQsWFgn7/7A+AB30EAylyl3X5tERERST8KgBkiJ1oB9Pu7/24g+2MBMFcBUEREJBsoAGYIR/R+wM2B7g2AgVCAupZ6AMpc/br12iIiIpKeFAAzRI4jEgBburkCeLC5BhMTp9VBvj2vW68tIiIi6UkBMEM4e6gCGB/+dfXDiC01FhERkT5NATBDxCqA3T0HMBYA+2kBiIiISNZQAMwQTkfPVAC1AlhERCT7KABmiNgQcHfPAdyvACgiIpJ1FAAzRE5PVQC92gJGREQk2ygAZghnD6wCDpthDjbXApoDKCIikk0UADNETg8MAdc21xMyQ1gNK0XOwm67roiIiKQ3BcAM0RMbQddEq3/FOUVYDH0UREREsoX+1c8QPbERdCwAluYUd9s1RUREJP0pAGaI+BzAHqgAligAioiIZBUFwAyRY7cB3VsBPKgKoIiISFZSAMwQPbER9EFVAEVERLKSAmCG6IltYDQELCIikp0UADNEfBuYQIiwaXb5emEzTG1zHQClLgVAERGRbKIAmCFiFUAAfzcMA3v8DYTMEBbDQqHD3eXriYiISOZQAMwQDpsFI/p9dwwDH/RF9wB0FmK1WI9xtoiIiPQlCoAZwjAMHN24EETz/0RERLKXAmAG6c7bwWkFsIiISPZSAMwg3bkZdK0CoIiISNZSAMwg3VkBrG2pB6A4p7DL1xIREZHMogCYQeKbQXdDAKyLBsAiZ1GXryUiIiKZRQEwg3TnEHBdc7QC6FQFUEREJNsoAGaQ2BBwVyuA/pCfpqAXgCIFQBERkayjAJhBnPbuqQDGhn8dVgcuW06X2yUiIiKZRQEwg3TXHMBYACx2FmEYxjHOFhERkb5GATCDxAJgV28FV6v5fyIiIllNATCDdNccwNYVwAqAIiIi2UgBMIM4HTag63MAY3sAFmkPQBERkaykAJhBcmJzAFuCXbpOXUsdoAqgiIhItlIAzCAOW+Svyx8Md+k62gNQREQkuykAZpDYNjBdXgQSvw1cUVebJCIiIhlIATCDOOL7AHa+AhgIB2kMNAEaAhYREclWCoAZxGGPDgF3oQJY3+IBwG6xkWtzdUu7REREJLMoAGaQ+J1Agp0PgB5/JAC6HW5tAi0iIpKlFAAziCM+B7DzQ8B10QpgobOgW9okIiIimUcBMIPEVwF3YQjY09IAQKHD3S1tEhERkcyjAJhBYreCC4VNgqHOVQHrY0PATgVAERGRbKUAmEEcNmv8+84OA8cWgRQ6NAQsIiKSrRQAM4jNahBbt+Hv5EIQjz86BKwKoIiISNZSAMwghmG02QuwcwGwtQKoACgiIpKtFAAzjLOLK4Fb5wBqCFhERCRbKQBmmK6sBA6GgzQFvICGgEVERLKZAmCGcXZhCDg2/89mWMmz5XZru0RERCRzKABmmK5sBh2b/1fgKNBdQERERLKYAmCGccbuB9yJVcD1WgEsIiIiKABmnK6sAvbEbwOnACgiIpLNFAAzTHcMAWsTaBERkeymAJhhnF1YBRxbBOJWABQREclqCoAZpitDwA2BRgAKHPnd2iYRERHJLAqAGcYRWwTSiSHgBn8TEFkFLCIiItlLATDDxPcB7MQq4IboELAqgCIiItlNATDDtC4C6UwAjA4B2xUARUREspkCYIaJ3QqupYNDwC0hP/5wAFAFUEREJNspAGYYZycrgLHhX7vFjtPq6PZ2iYiISOZIaQD84x//yHe+8x0mTpzItGnT+NGPfkRzc3P88TfeeIMLLriAiRMncu655/LCCy+0u4bf7+fnP/85M2bMYPLkyVxxxRVUVVW1O2/z5s1cccUVTJ48mRkzZnDvvffi9/t79P31hM4OAceHfx35ug2ciIhIlrOl6oUff/xxVq5cyY9//GMmT55MbW0t69evJxSKBJt//vOfXHvttVx00UUsXbqUd955h//zf/4PeXl5fOtb34pf584772T16tXceOONDBgwgGXLlnH55ZfzyiuvUFAQWe1aX1/PZZddxsiRI3n44YfZu3cv99xzD83Nzdx6660pef+dFVsF3NEh4LYBUERERLJbSgJgVVUVjzzyCI899hjf+MY34sfPPffc+PePP/44kyZN4j//8z8BOO2009i+fTsPPfRQPADu2bOH559/nttuu42LLroIgIkTJ3LmmWfyzDPPcOWVVwLwzDPP0NTUxCOPPEJRUREAoVCIO+64g6uvvpoBAwb0xtvuFvEh4A6uAtYCEBEREYlJyRDwiy++yNChQxPCX1t+v5933303odIHMGfOHDZv3syOHTsAWLt2LeFwOOG8oqIiZsyYQWVlZfxYZWUl06dPj4c/gNmzZxMOh1m3bl03vrOe1+khYG0CLSIiIlEpCYAffvghY8aM4bHHHmP69OmceOKJzJ07lw8//BCAbdu2EQgEKC8vT3je6NGjAeJz/KqqqigtLaWwsLDdeW3nAVZVVbW7ltvtpqys7LDzBdOZw9a5jaA1BCwiIiIxKRkC3r9/Pxs3bmTTpk3cdtttuFwuli1bxvz583nttdeor68HIiGtrdjPscc9Hk98nt+h58XOiZ136LUACgsLE87rDJvNgtUaCWWxrz0pz2UHIreCs9mSf73GYOQuIIU5BR16Xnfrzb7KdOqr5Kmvkqe+Sp76Knnqq45Jh7WYKQmApmni9Xr55S9/yQknnADASSedxFlnncXTTz/NzJkzU9GsDrNYDIqL8+I/u92uHn/NsCVaAQyGKSrKTXpFry/sBWBQcWlCm1OlN/qqr1BfJU99lTz1VfLUV8lTX2WOlARAt9tNUVFRPPxBZO7e+PHj+eqrrzjvvPMAaGhoSHiex+MBiA/5ut1uGhsb213f4/EkDAu73e5214JIJfHQ4eOOCIdNPB4vVqsFt9uFx+MjFOr4PXo7wtcciL/2gYON2JL8v63apkil0xKwU1vb1GPtO5be7KtMp75Knvoqeeqr5Kmvkne4vgqHQwSDIcBMbeN6lYHNZsVisR71rMJCFxZLaqulKQmAxx13HNu2bTvsYy0tLQwfPhy73U5VVRWnn356/LHYfL3YfL7y8nIOHDjQLsgdOuevvLy83Vy/hoYG9u/f325uYEcFg63/UQiFwgk/9wRrm4pfky9AXo49qed5onMAc615Pd7GZPRGX/UV6qvkqa+Sp75KnvoqeaFQmEAghMdTg8/XvkCTLVyufNzukiOO0plpkIlTEgDPPPNMXnzxRT777DPGjRsHQG1tLZ988gmXX345DoeDadOm8ec//5nLLrss/rzVq1czevRohg4dCsDMmTOxWCy89tprXHzxxUCkqrd27Vr+7d/+Lf68iooKli1bljAXcM2aNVgsFmbMmNFbb7tb2KwWrBaDUNjEHwiTl3Ps54TCIZoCkSFgLQIREZGeFAt/+fnFOBzOrLr5gGma+P0tNDbWAlBYWJriFh1ZSgLg2WefzcSJE1m4cCGLFy/G6XSyYsUKHA4Hl156KQA/+clPmDdvHrfffjuzZ8/m3Xff5eWXX+aBBx6IX2fgwIFcdNFF3HvvvVgsFgYMGMDy5cspKChg7ty58fPmzp3Lb3/7W6655hquvvpq9u7dy7333svcuXMzag/AGIfdgq8llPRWME1BLyYmBgZ5ttwebp2IiGSrcDgUD3/5+e0XX2YDh8MJQGNjLQUFxSkf6j2SlARAi8XCihUruPvuu7n11lsJBAKccsop/O53v6OsrAyAU045hYcffpgHH3yQ559/nsGDB3PnnXcye/bshGvdfPPN5OXl8Ytf/IKmpiamTp3Kk08+mbA6uLCwkKeeeoqf/exnXHPNNeTl5XHRRRexePHiXn3f3cVhs+JrCdGSZACMbQGTZ8/Feox5CSIiIp0VjN6kIBaCslXs/YdCQSwWR4pbc3gpuxVcSUkJ//Vf/3XUc2bNmsWsWbOOeo7D4WDJkiUsWbLkqOeNHj2aX//61x1tZlqK3w0kyb0AtQegiIj0jsjktmwa9j2cTHj/6VmXlKOK3w84ydvB6TZwIiIi0lbKKoDSeR29HVyDP7IFjiqAIiIiyXvttVd57rk/sG3bVkwTysrKmDjxJK6++hqKi0tS3bwuUQDMQLEh4KTnAAYi+/4pAIqIiCTnd797imXLHuH737+UBQt+jGmaVFdv5rXX1nDgwH4FQOl9Hb0fsOYAioiIdMzzz/83s2efz3XXtS4YnT59BpdeOo9wOPP3hdQcwAykIWAREZGe1dDgobS032EfS9etXTpCFcAMFF8EknQAjA4BaxGIiIikgGmaSY9a9QSH3dLhlbljx47jT396kcGDh/D1r888YhjMVAqAGaij28A0BiJDwPmqAIqISC8zTZO7n36fr3bWp6wNxw0t5KZ/mdqhEHj99UtYuvT/5ec/vxOAQYOGMGPG6VxyyaUMGjS4p5raazK/hpmF4kPASW4D0xhdBJJv111AREQkBdJ/W7x2ysuP47e/fZb/+q8HufjiH5Cfn8fzzz/DZZf9gC+//CLVzesyVQAzUGwRSEsSFcBAOEhLyA9Avj2vR9slIiJyKMMwuOlfpmbcEDCA3W5n+vSZTJ8+E4B3313Pf/zHIp588lfcddfRb2aR7hQAM5DTkfwikKZo9c/AIMeW06PtEhERORzDMOL/dmWyadOmM3r08WzdWp3qpnSZhoAzkMPWkQDoBSL3AbYY+usWERFJRk3NwXbHWlqa2bdvLyUlpSloUfdSBTADxVYB+4PHLqc3xef/afhXREQkWfPmzWXGjNM59dTp9OvXj/379/HCC89SX1/HxRf/INXN6zIFwAwUvxOI/9gVwMY2FUARERFJzvz5V7Fu3d945JEHqKurpbCwiNGjj+eXv3ycqVNPSXXzukwBMAN1ZBWwKoAiIiId993vXsx3v3txqpvRYzQpLAM5O3AruEa/KoAiIiKSSAEwAzmiK6mSuRNIrAKYpwqgiIiIRCkAZiBnB1YBx+YA5jsUAEVERCRCATADtd4LOPlVwHk2DQGLiIhIhAJgBoovAgmEME3zqOfGbwOnCqCIiIhEKQBmoNg2MCYQDB29Cti6EbQCoIiIiEQoAGag2BAwHHsYuHURiIaARUREJEIBMANZLRZs1shNrY+2ECQYDtIcagG0D6CIiIi0UgDMULH7AR9tK5jY8K+BgcuW0yvtEhERkfSnAJihnI7YQpAjDwE3thn+tRj6qxYREemIVauW881vnp7qZvQIpYIM5bDFtoI5dgVQC0BERESkLQXADOW0H3sz6EYtABEREZHDUADMULG9AI9eAYzuAagKoIiIiLShAJihnNGtYI42BzA2BJyvCqCIiIi0YUt1A6RzkqkAtg4BqwIoIiKpY5ompt+fstc3HA4Mw0jZ66cjBcAMlcwcwNZFIKoAiohIapimyfZ7/i/Nm79KWRtyjjueYUuWKgS2oSHgDBW7G0hL8NjbwGgOoIiIpJSCV9pRBTBDOZKpAPpVARQRkdQyDINhS5ZqCDjNKABmKGdHVgE7VAEUEZHUMQwDw+lMdTOkDQ0BZ6jYRtBH3wdQG0GLiIhIewqAGap1Ecjh5wAGw0GaQ82AhoBFREQkkQJghjrWNjBNAR8ABga5NlevtUtERKSvWLDgav7yl7+luhk9QgEwQx1rGxhvMDL867LlYDH01ywiIiKtlAwyVHwbmCMMAXujFcBcDf+KiIjIIRQAM1SyFUAN/4qIiMihFAAz1LHmAMYrgAqAIiIicggFwAwVrwAe4U4g3mAkAGoFsIiIiBxKATBDxecA+o9UAYwuArGrAigiIiKJFAAzVGsF8AjbwMQqgDZVAEVERCSRAmCGis0BDIZMQuH2w8Ctq4BVARQREZFECoAZymlv/as73N1AtApYREREjkQBMEPZrBaM6PeH2wpG+wCKiIjIkdhS3QDpHMMwcDistPhDh90KJrYKWBVAERGRzlm1ajlPPrky/rPbXciIESOZN+8Kpk+fmcKWdZ0qgBnMaYv89R12CDigIWAREZGucjqdLFv2JMuWPcmSJf8Hv9/PkiU/5eOPP0x107pEFcAMFlkIEmhXATRNU/sAioiIdAOLxcKJJ06M/zx+/Il897vn8eqrLzNx4kkpbFnXqAKYwY50Ozh/OEDIjBxzqQIoIiLSbcrK+lNUVMzevXtT3ZQuUQDMYPHNoA8ZAo4N/1oMC06ro9fbJSIi0ld5vV48nnoGDRqc6qZ0iYaAM9iRNoP2ttkE2jCMds8TERHpTaZp4g8HUvb6Dou9S/8eBoNBAA4cOMDjj/+S3Nw8vv/9ud3VvJRQAMxgsc2gD70dXHwBiDaBFhGRFDNNk/vff4yq+q0pa0N54Uh+OvUnnQqBPp+PM844Lf6z1Wrl7rt/wfDhI7uxhb1PATCDOeIVwMQh4Kb4FjBaACIiIukgc0ejnE4njz66knA4zI4d21m27BHuvPM2fvOb/6Zfv36pbl6nKQBmsNg2MIeuAtZt4EREJF0YhsFPp/4kY4eALRYLJ5wwHoisAB4+fARXXXU5v/71Sm644abubGavUgDMYA7H4VcB6zZwIiKSTgzD6DOLEk84YTxnn30uq1e/xBVXXElpaWZWAbUKOIM5bdE5gEesAGoIWEREpLtdfvkCQqEQzz77h1Q3pdMUADNYbBuYQ+8EotvAiYiI9Jzhw0cya9Y5/M//PE9jY2Oqm9MpGgLOYLFtYNpXALUKWEREpKsWLLiaBQuuPuxjt976s15uTfdSBTCDOQ5zJ5CE28BpFbCIiIgchiqAGSw+BBwME25pYc8TK2nZtpXG8/oDqgCKiIjI4SkAZjBnm42gD/7pjzS+908APLUm5Fm0D6CIiIgclgJgBmsdAg7ief+d+PGW6N+qKoAiIiJyOCmfA9jU1ERFRQVjx47l448/Tnjsueee49xzz2XixIlccMEFvPnmm+2e39DQwNKlSzn11FOZMmUKCxcuZN++fe3Oe//997nkkkuYNGkSZ555JitWrMA0zR57X70hthG0u3Y3ofo6LC4XRXPOo9kR2exSq4BFRETkcFIeAB977DFCoVC746+88gq33HILs2fPZuXKlUyePJlrr72WDz74IOG8RYsWsW7dOm6//Xbuu+8+qqurufLKK+M3bgbYunUrCxYsoKysjOXLl3PZZZfx0EMP8cQTT/T02+tRsY2gS+t2ApA7fgKOqVMgutu5y7CnrG0iIpKNIv/+ZHqBpasy4f2ndAh48+bN/P73v2fJkiXcdtttCY899NBDnHfeeSxatAiA0047jU2bNvHoo4+ycuVKADZs2MDatWtZtWoVM2fOBGDUqFHMmTOH1157jTlz5gCwatUqiouLuf/++3E4HEyfPp2amhqWLVvGD3/4QxyOzNydPLYRdFHTAQByRowkUFYEVWALmoS274TRx6WwhSIikk1s0X+X/P4WHA5niluTOn5/CwBWa/rOtEtpBfDOO+9k7ty5jBo1KuH49u3b2bJlC7Nnz044PmfOHNavX4/f7wegsrISt9vNjBkz4ueUl5czbtw4Kisr48cqKyuZNWtWQtCbM2cOHo+HDRs29MRb6xXxCqD3IADOYcPxhZoj3/vD+L74PGVtExGR7GOxWHG58mlsrKWx0YPf30Ig4M+aP35/C42NHhoba3G58rFYUj7QekQpi6Zr1qxh06ZNPPzww3zyyScJj1VVVQG0C4ajR48mEAiwfft2Ro8eTVVVFaNGjWp3g+fy8vL4NbxeL7t376a8vLzdOYZhUFVVxbRp07r77fUKp82CLRyk2O+J/DxsON7gfgBy/CbNe7eksHUiIpKN3O4SABoba1PcktRxufLj/ZCuUhIAfT4f99xzD4sXLyY/P7/d4/X19QC43e6E47GfY497PB4KCgraPb+wsJCNGzcCkUUih7uWw+HA5XLFr9VZNpsFqzWS8GNfe0uuy05xoAELJpbcPJylxbTs3Q5EKoAt27Zis6XX/32kqq8ykfoqeeqr5Kmvkqe+St6hfVVaWkY4XEIwGALSfz5c9zGw2axYLNajn2Uc9eFekZIA+Pjjj1NaWsr3vve9VLx8t7FYDIqL8+I/u929u+rWHTYpCkQCrnPgAEpK8jFrIgtqcvwmgf37KbCb2A4TslOtt/sqk6mvkqe+Sp76Knnqq+SprzJHrwfAnTt38sQTT/Doo4/Gq3Nerzf+tampicLCQiBSvSsrK4s/1+OJDHXGHne73ezZs6fda9TX18fPiVUIY68V4/f78fl88fM6Ixw28Xi8WK0W3G4XHo+PUCjc6et1RkmoKdIWdzG1tU0c8NQB4DIi8x33fPQZeePG92qbjiaVfZVp1FfJU18lT32VPPVV8tRXHVNY6Er5/MBeD4A7duwgEAhw1VVXtXts3rx5nHTSSfziF78AInMB287dq6qqwm63M2zYMCAyj2/9+vWYppkwD7C6upoxY8YAkJuby6BBg+JzAtueY5pmu7mBHRUMtn7QQ6Fwws+9IR4AC0sIBsM0tkTCdJ4zH9iPb8cunMef0KttSkYq+ipTqa+Sp75Knvoqeeqr5KmvkpMOu8T0evwcN24cv/nNbxL+3HTTTQDccccd3HbbbQwbNoyRI0eyZs2ahOeuXr2a6dOnx1fzVlRUUF9fz/r16+PnVFdX8+mnn1JRURE/VlFRweuvv04gEEi4ltvtZsqUKT35dntcUTBS2QwVRiabNgWiATA3Utn0796VmoaJiIhI2ur1CqDb7T7iqtsJEyYwYcIEAK677jpuuOEGhg8fzrRp01i9ejUfffQRTz/9dPz8KVOmMHPmTJYuXcqSJUtwOp088MADjB07lnPOOSd+3oIFC3jppZe4/vrr+cEPfsCmTZtYtWoVixcvztg9AGPcgUYAQgVFAHiDPgDyCyKB0L97d0raJSIiIukrbXcoPP/88/H5fKxcuZIVK1YwatQoHnnkkXYVuwcffJC7776bW2+9lWAwyMyZM7n55pux2Vrf2ogRI1i1ahX33HMPV111FSUlJSxcuJD58+f39tvqdnn+yBBwS7Ti541WAAuK+wPg36MKoIiIiCRKiwA4bdo0vvjii3bHL774Yi6++OKjPregoIC77rqLu+6666jnTZ06lWeffbZL7Uw34eZmHKHIptjNzshq5FgF0N1vEADB2lrCzT4sOVqZJSIiIhHa3CiDBevrAPAbNpqjWT4+BJxXjLUwNg9Qw8AiIiLSSgEwgwWjm1g32ly0BCKrrmJDwLl2F46BkSqgAqCIiIi0pQCYwYJ1kdvsNFpzafYHCYVDNIciN6DOs+XiGDQYAP8eBUARERFplRZzAKVzQnV1ADTYXAQDIXzB5vhjLlsOgUGRCmCLtoIRERGRNhQAM1gwGgAbbbkY/hBNwcjwb441B6vFimPAQAACe/emqokiIiKShjQEnMFii0CarC5a/CG8gcgCkFx7ZMWvvSyyFUzgwH7MdNh2XERERNKCAmAGC0Xvb9xkzaHZH4qvAM61RQNgaSlYLJh+P6FoWBQRERFRAMxgoQYPAF5rDs2BUJsVwLkAGDYb9pJSAPz79qWmkSIiIpJ2FAAzWNATqQB6rTmRIeBDKoDQZhh4vwKgiIiIRCgAZijTNAk1tgbAZn+bCmDbANi/DFAAFBERkVZaBZyhwl4vhEJAJAA6/cF4BTAvOgQMbSqA+/b3fiNFREQkLakCmKFiC0Bw5hCyWGkJtFkFnDAErAqgiIiIJFIAzFCxBSCW/AIAWtrsAxjbBgZaK4B+BUARERGJUgDMUEFPJABaCyIB0B8Mt9kHsHUI2NE/EgDDjY2EvN5ebqWIiIikIwXADBVqbATA7i6IH2s6zCIQS44rHhI1DCwiIiKgAJixwt4mAKx5+VgMA2gTANsMAUPbrWC0EEREREQUADNWqCkWAPPIcVgB8MX3AcxNOFd7AYqIiEhbCoAZqrUCmIfTYQUjRNAMAolDwAD2/gqAIiIi0koBMEPFKoCWWAXQFgDAwCDH5kw41xFbCazbwYmIiAgKgBkrHF3Ra83NxWm3Ylhbq38WI/GvVUPAIiIi0pYCYIaKVwBzIxVAI1oBdB2yAARabwcXrKnBDAZ7r5EiIiKSlhQAM1TI23YRiC0+BJx3yAIQAKu7EMPhANMkcOBAr7ZTRERE0o8CYIYKNyUuAjGskQB46BYwAIZhtA4DH9AwsIiISLZTAMxAZjhM2BfZ8sWSl4fT3roI5NAVwDHxewJrIYiIiEjWUwDMQOE2t3SzunIT5gC2vQ1cW9oMWkRERGIUADNQqClyGzjDmYNhs0UCoPXoFUBHtALo10pgERGRrKcAmIFCTdEtYPLyACIbQduOPAcQVAEUERGRVgqAGSjsjVQArXmR4d4cuxXDFtsH8BhDwAf2Y5pmL7RSRERE0pUCYAaKVQAtefkA5DhsGDY/cOQKoK20FAwDs6WFkMfTOw0VERGRtKQAmIHi9wHOjVYAnVaI3gkk7whzAC12O7biEkB3BBEREcl2CoAZqO1dQABynbZjrgKGNlvBaB6giIhIVlMAzEBtN4EGyHFY4RirgEH3BBYREZEIBcAMFPImrgK22sMYlsjCjqNVAB39IwFQW8GIiIhkNwXADBTbB9ASnQMYG/41wwYW03rE59n7aQhYREREFAAzUjheAYysAg4ZkRXABO34/KEjPs/eX0PAIiIiogCYkVoXgUQqgM2hZgDMkB1fS/CIz4tVAEP19YRbWnq4lSIiIpKuFAAzUHwbmGgF0BuIVATN4NEDoDU/Px4aAwc0DCwiIpKtFAAzULwCGL0TiDfoiz5gx9d85AAImgcoIiIiCoAZJxwIYPojc/6s0X0Am9pUAL0tR54DCG3mAe7TPEAREZFspQCYYWLDvxgGFldkz794BfAYQ8DQpgJ4QAFQREQkWykAZpj4fYBduRiWyF9fU5JzAKG1AujfpyFgERGRbKUAmGEOvQsIJL8IBMARuxuIKoAiIiJZSwEww4S8sQUgrQEwVgEkaMd7rApg9H7AwQMHMMPhnmmkiIiIpDUFwAwTrwDmtt7yrSkYrQAeYx9AAFtJKVitmMEgwdranmuoiIiIpC0FwAwT8h5uCDiyCMQMOo4ZAA2LBXtpP0B3BBEREclWCoAZpvUuIG2GgIOtQ8DHCoDQOgysACgiIpKdFAAzzKGLQALhIP5QZF/AZPYBBLDHFoJoM2gREZGspACYYQ5dBBIb/jUwIGQ75iIQUAVQREQk2ykAZpiwNzLcG1sE4o0O/+ZYcwAjqSFgR3wvQAVAERGRbKQAmGFa7wOcD7RuAeOyRQJhUnMABwwEILB3D6Zp9kQzRUREJI0pAGaYQ7eBiQXAPHvk50AwTDB09P397GX9wTAINzcTqq/vwdaKiIhIOlIAzDChQxaBxO4CUuBo3RfwWPMALXY79n6RrWD8e/f0RDNFREQkjSkAZhDTNNstAoltAZNnz8XpsALJDgMPAsC/RwFQREQk2ygAZhDT74dQZJsXa27iKuBcey65ThuQXAB0DBwAROYBioiISHZRAMwgoabGyDdWK4bTCbSpANpc8QDY1JxEAIxXAHf3QEtFREQknSkAZpBwU2wLmDwMwwBa5wDm2fPId9kBaPIFjnktx8DISmDNARQREck+CoAZpHX+X+uCj9gq4Fy7Kx4AG5MIgPGtYPbvxwweu2IoIiIifYcCYAZpXQGcHz/mbbMNTF4sAHqPHQBtxcUYDgeEwwQO6JZwIiIi2UQBMIOEvYl7AAI0BaOLQGy5HaoAGoaBI1oF1EpgERGR7KIAmEHidwGJrgCGthXANkPAzccOgKB5gCIiItnKluoGSPLCh2wCHQqHaA61AJFtYPJdkbl8yQwBQ+s8QK0EFhERyS6qAGaQkDdS7YttAu2NDv8aGOTaOrYIBForgIG9e7u7qSIiIpLGUhIAX331VX7yk59QUVHB5MmTufDCC3n++ecxTTPhvOeee45zzz2XiRMncsEFF/Dmm2+2u1ZDQwNLly7l1FNPZcqUKSxcuJB9+/a1O+/999/nkksuYdKkSZx55pmsWLGi3eulu3B0H8BYBTC2Athly8FiWMjP7WAAVAVQREQkK6UkAP7617/G5XJx44038vjjj1NRUcEtt9zCo48+Gj/nlVde4ZZbbmH27NmsXLmSyZMnc+211/LBBx8kXGvRokWsW7eO22+/nfvuu4/q6mquvPJKgm22Ntm6dSsLFiygrKyM5cuXc9lll/HQQw/xxBNP9NZb7haxCmDsLiCtW8BEFoV0tAJoHxjZDDrk8cTnF4qIiEjfl5I5gI8//jglJSXxn6dPn05dXR1PPvkk//Zv/4bFYuGhhx7ivPPOY9GiRQCcdtppbNq0iUcffZSVK1cCsGHDBtauXcuqVauYOXMmAKNGjWLOnDm89tprzJkzB4BVq1ZRXFzM/fffj8PhYPr06dTU1LBs2TJ++MMf4nA4ercDOql1EUgk8HnjdwFJDIDN/hDBUBib9ej53upyYSspIVhTg3/XTlzHj+mppouIiEgaSUkFsG34ixk3bhyNjY14vV62b9/Oli1bmD17dsI5c+bMYf369fj9fgAqKytxu93MmDEjfk55eTnjxo2jsrIyfqyyspJZs2YlBL05c+bg8XjYsGFDd7+9HhM+ZB/AtptAA+Q6bRjRc5O5GwiAY/BQAFp27ujGloqIiEg6S5tFIO+99x4DBgwgPz+fqqoqIFLNa2v06NEEAgG2b98OQFVVFaNGjYrfFi2mvLw8fg2v18vu3bspLy9vd45hGPHzMsGhdwJpuwk0gMVixDeDbkgyADqHDAGgZefObm2riIiIpK+02Abmn//8J6tXr2bJkiUA1NfXA+B2uxPOi/0ce9zj8VBQUNDueoWFhWzcuBGILBI53LUcDgculyt+rc6y2SxYo0Ot1mMMuXaFGQ4Tjs4BdLgLsNks+MLNAOQ7crHZIq+d77LT6AvQ7A/Fjx2Na/gwaoHArp1Jnd9VvdFXfYX6Knnqq+Spr5Knvkqe+qpjDqlbpUTKA+CePXtYvHgx06ZNY968ealuTodYLAbFxa2bMrvdrh57rWBjE0RXLfcbUobF4SBoiQyFlxYUxdtRVOBkT40X02JJaNuR2Mcdzy7Av2snRUW57aqpPaUn+6qvUV8lT32VPPVV8tRXyVNfZY6UBkCPx8OVV15JUVERDz/8MBZL5P8cCgsLgUj1rqysLOH8to+73W72HOY2ZvX19fFzYhXCWCUwxu/34/P54ud1Rjhs4vF4sVotuN0uPB4foVC409c7Gv/+yP16DYeD+qYANAU42BCpXlpDdmprI8PDLocVgD37G+LHjvoe8ovBMAg2NHBgyy5sRUU90v6Y3uirvkJ9lTz1VfLUV8lTXyVPfdUxhYWueOZJlZQFwObmZq6++moaGhr47//+74Sh3Nh8vaqqqoS5e1VVVdjtdoYNGxY/b/369ZimmVC5qq6uZsyYyIrW3NxcBg0a1G6uX3V1NaZptpsb2FHBYOsHPRQKJ/zcnfz1kfBrzcuPv0ZDS2RfwFxrbvxYbk7kr9TT5E+uLRYb9v79CezdS9O27eTlu4/9nG7Qk33V16ivkqe+Sp76Knnqq+Spr5KTDtsQpyR+BoNBFi1aRFVVFb/61a8YMGBAwuPDhg1j5MiRrFmzJuH46tWrmT59enw1b0VFBfX19axfvz5+TnV1NZ9++ikVFRXxYxUVFbz++usEAoGEa7ndbqZMmdITb7HbhRqjm0Dntw7rNgYiFb58R+uxju4FCOCMrgT279JCEBERkWyQkgrgHXfcwZtvvsmNN95IY2NjwubO48ePx+FwcN1113HDDTcwfPhwpk2bxurVq/noo494+umn4+dOmTKFmTNnsnTpUpYsWYLT6eSBBx5g7NixnHPOOfHzFixYwEsvvcT111/PD37wAzZt2sSqVatYvHhx5uwB2BgZwrZEt4ABaAhEQmG+vfVYPAAmeT9gAMeQIbDhPW0FIyIikiVSEgDXrVsHwD333NPusddff52hQ4dy/vnn4/P5WLlyJStWrGDUqFE88sgj7Sp2Dz74IHfffTe33norwWCQmTNncvPNN2Oztb61ESNGsGrVKu655x6uuuoqSkpKWLhwIfPnz+/ZN9qNQo3RPQDzI2HPNM34PoD50W1goJMVwCHRCqC2ghEREckKKQmAb7zxRlLnXXzxxVx88cVHPaegoIC77rqLu+6666jnTZ06lWeffTbpNqabUPw+wJEA6Av6CJuReRb5jtYKoDs3UtH0eP1JX9vRZi/AQ+dTioiISN+jDXsyROscwEjYa4jO/8uxOrFbWnN8Yb4TgLrGDgTA/gPAasVsaSZYc7C7miwiIiJpSgEwQ4QPqQA2+qMLQOyJe/0V5UcrgE1+wkkuMzJsNhwDBwHQEr3LioiIiPRdCoAZ4tAKYGNsAUib4V8Ad54DAwiFzQ4tBHEOHw5Ay/Zt3dBaERERSWcKgBkiFgAt0W1g4lvAHFIBtFktFORGFoLUNbYkff2c4SMAaN66patNFRERkTSnAJghDl0EcqQhYOjcPEDniJEAtGzb2pVmioiISAZQAMwQh24Dc7hNoGOK4gEw+Qqgc1hkCDhYU0PokNvmiYiISN+iAJgBzGAQs6UZaK0ANhy1AhhZCFLfgQBodbmw94/ckaVZVUAREZE+TQEwA8Tm/2EYWHIjmz4faREItK0AJj8EDOCMzgPUMLCIiEjfpgCYAWLz/yx5eRiWyF9ZU3QIuOAwFcDYVjAdGQIGyBkRWwiiACgiItKXKQBmgPgWMG3vAxwdAs47bADsYgVwS3Wn2ikiIiKZQQEwAxy6ByC0LgIpOMwikPgcwKYOVgBHjQIgcGA/wQZPp9oqIiIi6U8BMAO0bgETCXstIT+BcGST58MtAimOVgDrG5O/GwiANTcPx6DBADRXVXWpzSIiIpK+FAAzQPjQu4D4Iz/bLDacVme78915kQpgKGzS6Ev+biAAOaPKAWiu2tzp9oqIiEh6UwDMAIduAl3vj+zT53YUYBhGu/MT7gbS0MFh4NGjAVUARURE+jIFwAwQ2wTaEq0AeqIBsNBRcMTnFBdEKoM1HQ2AsQrglirMcLjDbRUREZH0pwCYAULRBRm2AjcAnpbIz26n+4jPKStyAbC/1teh13IOGYrhcBD2+fDv3t2Z5oqIiEiaUwDMAEFPJPBZCwuB1iHgo1UA4wGwrmMB0LBayRkZWQ3s2/xlh9sqIiIi6U8BMAOE6usBsLkPqQAeJQD272QABHCNGQuAb9MXHX6uiIiIpD8FwDRnmiZBTyQAHloBdDuTqADWN3f4NVsD4KYOP1dERETSnwJgmgs3NUEoBID1kDmAhY6jzQHMASIVQLMDewECuEYfB1YrwZqDBA4e6EyzRUREJI0pAKa5WPXPkpuHxR7Z2sWTRAWwxJ2DYUAgGO7wLeEsTmf8vsAaBhYREel7FADTXCi6ACQ2/y9shvFEN4I+WgXQZrVQ6m6tAnaU6/jIMLBXAVBERKTPUQBMc8H6xPl/Df4mTEwMDAoc+Ud7aqdXAkObeYCff97h54qIiEh6UwBMcyHPISuA/ZGKYIEjH4tx9L++rgTA3LFjwWolsH8f/v37Ovx8ERERSV8KgGnu0ApgfRJbwMS0LgTp+EpgS44LV3nktnDeTz/p8PNFREQkfSkAprnWCmAkACazACSmf3EuAHtqvJ167dwJJwLg/WRjp54vIiIi6UkBMM3F7wLijlUAY3cBOfICkJihZXkA7DzQSLiDW8EA5I6fAID3s08xo1vRiIiISOZTAExz8buAFCZWAI92G7iY/sUu7DYL/kC4U/MAc0aOwpKbS9jno3lLdYefLyIiIulJATDNtVYAIxW/2pY6AAqdhcd8rtViYXC/SBVwx77GDr+2YbGQOz4yDNz04Qcdfr6IiIikJwXANGaGw4QaovsARiuANc21AJTkFCV1jWFlka1itnciAALkT54MQOMHGzr1fBEREUk/CoBpLNTYCOEwANb8yJBvTXMdAKWukqSuMbR/JADu2N/UqTbkTTwJLBb8u3bi36ftYERERPoCBcA0FqyLVPusBQUYNhu+oA9fMDKXrySnOKlrDCvr/BAwgDUvL74pdNOHqgKKiIj0BQqAaSxYUwOArThS7YtV//LteTitjqSuMSRaAdxX56PZH+xUO/InTwGgccP7nXq+iIiIpBcFwDQWrI0GwJJIADzoi/yc7Pw/AHeug8L8SFjcsa9zw8D5U6YC4PtyU7wqKSIiIplLATCNBaIVQHtJKdBaASzJSW7+X0z5oMgK4i931nWqHfbSfuSMPg5Mk4Z//L1T1xAREZH0oQCYxuJDwLEKYHPHK4AAxw+NnP/l9vpOt6Vg2mkANPzj3U5fQ0RERNKDAmAaC9YcBFoDYHwFcAcrgGOHFwHw5Y66Tt0RBKDg5K+BYdBcVYV/v1YDi4iIZDIFwDQWiM4BtBfHhoA7VwEcPiAfp91KU3OQXZ3cDsZWWEjuuPEAeN5e16lriIiISHpQAExTZjAYHwK2l/UDOr4HYIzVYuG4IZF5gF9sr+t0mwpnVgDgWfs3zOj+hCIiIpJ5FADTVKC2BsJhDLsdq7uQlpCfxkCketfRCiDA8cMiz9nUhQCYN2Uqlrw8grU1NG38uNPXERERkdRSAExTgehdN+z9yjAsFg74IvMBXTYXLpurw9cbPyJSNdxYXUMw1LnqncVuxz19BgD1f3urU9cQERGR1FMATFOBA/sBsJeVAbDXG/l5QG5Zp65XPsRNYZ4DX0uQz7d2fi+/wopvAND0wQYC+/d3+joiIiKSOgqAaSpeASzrD8C+LgZAi2Ew5fjIXML3NnU+uDkHDyF3wolgmtS+/pdOX0dERERSRwEwTbUGwMQKYP9OBkCAqWMjz92waT/hcOe2gwEo/ua5ANT/rZKQ19vp64iIiEhqKACmKf+e3QA4Bg4Cuj4EDHDC8GJynTY83gBfbOv8MHDuhBNxDB6M2dJM3Rt/7fR1REREJDUUANOQGQzi37cXAMegwZimyd6mSEWwKwHQZrVw6rjIkPKbG3Z2+jqGYVAy53wAal/7MyGfr9PXEhERkd6nAJiGAvv3QSiE4XRiKymhprmW5lALNsPapQAIcNbUoQC8v+kANZ7mTl+n4NTTcAwcRNjbRJ3mAoqIiGQUBcA01LK7dfjXMAx2NkZ+Hpg3AKvF2qVrD+2fz9hhRYRNk//9YFenr2NYLJR8+0IAav/8KkGPp0vtEhERkd6jAJiG/Dt3AOAYPBiAnY17ABicP7Bbrj/r5EgV8PX3dtDoC3T6OgVfOxXniJGEfT4O/s+L3dI2ERER6XkKgGmoedtWAHKGjQBgR2OkUjckf1C3XH/q2DKG9c/H1xLk5be3dPo6hsVC/7mXApGNoWPtFhERkfSmAJiGWqJByjl8OABbPdsBGFEwtFuubzEMLj5zNBCpAu4+2NTpa7mOH0PB104F02Tvr5/ADIW6pY0iIiLScxQA00yosZHgwcht35zDh1Pf4qG2pQ4Dg2HdFAABThxVyonlJYTCJr96+dNO3x4OoGzupVhy82jZtpXaP7/abW0UERGRnqEAmGZ8VZsBsPcfgDU3jy3R6t+gvAHk2Jzd+lqXf+sEcp02qnc38Ke11Z2+jq2wKD4UfOBPf6S5uqq7migiIiI9QAEwzTR/9SUAruOOB+CrukiYGlU4vNtfq8Sdw7xvjQXglfVbqfyw86uCC6Z/nfyTT4FQiN3LHyfk7fywsoiIiPQsBcA044sFwOMjAfDL2khFcEzR6B55vVPHDeC86ZHFJr9Z8wVrP9rdqesYhsGAy67AVlpK4MB+dj32CGYw2J1NFRERkW6iAJhGwi0tNEeHgF3Hj6Up4GVHdA/A44t7JgACfLeinNMnDSJsmjyx+jNerKwiFO74nEBrbh6Dr1mI4czB9/ln7P3NrzHNzt9zWERERHqGAmAa8X7+GWYwiK1fP+wDBvDJwc8xMRmcN5BCp7vHXtcwDC6bfQKzT4sMM7/89hZ+/rsNbNvb0OFr5QwfweAf/xtYLHjeXsuB559VCBQREUkzCoBppOnjjwDImzARwzD4+MCnAEzsN77HX9tiGFx8xnFc+e3x5DisfLWznjue/AdPvPIZe2q8HbpW3sRJ9P/XeUDkLiH7fv9bzE5UFEVERKRn2FLdAIkwQyEa3/snAHknTaY52MLGg58DMKms5wNgzPQJAzl+SCHPv7WZv3+2j7Uf72btx7uZMLKYGRMHMWl0Kbk59mNep6jiDDBh39NPUf/mG4Sbmhhw2XywuXr+TYiIiMhRKQCmCe9nnxJq8GDJzydv/AT+vv9D/CE/Za5SRhQM69W29Cty8eMLT+Sbp9Tz0ttb+HjzQT7ZUssnW2qxWgyOH1rIcUOLOH5oIaMGucl3HT4QFn3jDCw5TvasWknD39+lZedOhl23EHpwPqOIiIgcmwJgmqh7600gcn9drFYqd64HYNrAkzEMIyVtGj2kkEUXn8T+Oh9/+2gX732xn90HvXy+rY7Pt9XFz3Pn2hlYmsfg0lxKC3MoLnBSlO+kuMBJ4UmnMOT6YvYsfwz/zh1U334r5rx/xXnazJS8JxEREQHD1Az9TguFwtTUNGGzWSguzqO2tolgsONz3fx79rDllpvANBnxn/+Xba5mHtywHJvFxs++fhNuR0EPtL5z9tR4+XxbLV9ur+ernXXsr2s+5nMMoJ/Fz5xdbzEouqq5tmgQm088E1+/odhtFmw2C3abBbu19avFYkT+GG2/csjPiccxYq/Z9vv4txAN00brt63tbHPAOMJ1Eq5/mGt0J6vVoKDARUODj1BIv6ZHo75KntVqwe3OweNpJtSFOwD1tlT8f7DVasFd4MLT4MuovkoF9VXHTBo7AKcjtTU4VQDTwIE/Pg+mSd6kk7APGsT/vPcYAKcNPDmtwh/AwJJcBpbkcsbkIQD4WoLsrfWy+4CX3TVN1HhaqG1ooa4x8sfXEsIE9ocdPDXgbKa4vuCMAxsortvNKWt/z5d5Q3m7eBK7c/ql9o2JiIj0kpVLz2ZgqQJgr9m8eTN33nknGzZsIC8vjwsvvJBFixbhcDhS1qbGDzZEFn8YBv3+n4uo3LGeLZ5tOKwO5ow6J2XtSpbLaWPkQDcjBx5+mxp/IISvJYg3+qclMBVL03n41rxEzmfvcXzTDo5v2oG33xD2jZ7CgYHH02xxEAiFCYVNzLBJ2DQJh03CJq3fx46bJuFw5LgZNonVflrr2q3HMGnzeGuVyGxzHDPx/NgV2tbJzUNP6DEGFqtBOGT2wmtlOvVV8jKvr1LZSovFQli7GCRFfZU8iyU1U7vaypoAWF9fz2WXXcbIkSN5+OGH2bt3L/fccw/Nzc3ceuutKWlTy86d7HliJQDF55zLlrwWXvzwZQC+M3oOhc70qv51hsNuxWG3UpgfuY9xZLh8OLWTRuHdsZOa1S/T8Pd3yT2wk5EHdjLKZiP3xInkT55K7rjx2EtLU/wOUqerUwuyifoqeeqr5Kmvkqe+6pgSd06qm5A9AfCZZ56hqamJRx55hKKiIgBCoRB33HEHV199NQMGDOjV9jR9spE9K5cT9npxjh7NF6cN5/mPniBkhpjSfxIVQ6b3antSwTFwEAPnX0m/iy6h/m9v0fD3d/Hv3EHTBxto+mADAPb+A3AddzzOESPIGT4S57BhWHJS/4sjIiKSybImAFZWVjJ9+vR4+AOYPXs2t912G+vWreO73/1uj7fBDIXwfv4ZdW/8laYPPyBohV1Th/HR14rZ/OX/AHBi6TguG3dJylb+poLN7ab0vG9Tet63adm5g4Z//gPvJxtp3lJNYN9eAvv2wttrIycbBrbiYuz9yrD37x/5WtoPq9uNzV2I1e3GWlCAYdEe5yIiIkeSNQGwqqqK733vewnH3G43ZWVlVFVVdenaNXu2cmBHI/X1DfhbWggFAoSCAQLNTQSbGvE3NdJUu48GzwF8ljD1+VZqvlnM/n4OgkYLNGzDZrHx7fJzOWvY6ViM7A0vziFDcQ4ZChf+P4S8XnybvqB56xZatm6hZfs2grW1BGtqCNbU4Nv0xeEvYhhY8vKwulxYcnKw5MS+5mBxuTAcTgyb7dh/rFYwLJHlh4aBYTHAsETCZfxY6/eRxwywWKIB/tBlxu3becQHDQhZLXgbXLQ0+AgGzcM/LYnrHPFAH/qfjLDNwNeci9/jTegraU99lTz1VfLUVx1jFg4Ha2r/rc+aAOjxeHC72y9UKCwspL6+vtPXff+91TxR+ybmkSZ05kT/lALkHvKgSZGzkGmDpnLG8BmU5BR1uh2Zwhr9wFuT+ODb3Pk4TzkZTjk5fizY0IB/714C+/bh378P/759BGpqCDV4CNbXE2psBNMk3NhIuLGxx96HiIhIZ5UufwzbwN6denaorAmAPcFiMRg6dAQFew38VhOLaWCB6FcDq2HBarFisVrJtbtwF5RQ6C6hLL+UIe6BjCgcyhD3wKwa7o1xuzt5S7jiPBg+8IgPm6EQgYYGAvUeQj4fIa+XkK+ZkM8b+dnXTMjnwwyFCAcCmMEg4UAQMxiIfg1GjwUwQ6HIquCwCWY4cj9j00z4Gnssdl7ksXD7ex8f+j/ECdtvmkd5qN0Tj/hj+y09j3xu++uKiEivSYN/97MmALrdbhoaGtodr6+vp7CwsFPXDIdNBg+ZyP3D78ftduHxdHADzDDU1Xk79dqZKrIJbSf6qkPs4C6FaMHXGv2TaXqnr/oG9VXy1FfJU18lT33VMY7CThZBulHWBMDy8vJ2c/0aGhrYv38/5eXlnb5u2+XuoVBYy9+TpL5Knvoqeeqr5Kmvkqe+Sp76KjnpMAiTNasNKioqePvtt/F4PPFja9aswWKxMGPGjBS2TERERKR3ZU0AnDt3Lnl5eVxzzTWsXbuWF154gXvvvZe5c+f2+h6AIiIiIqmUNQGwsLCQp556CqvVyjXXXMMvfvELLrroIm688cZUN01ERESkV2XNHECA0aNH8+tf/zrVzRARERFJqaypAIqIiIhIhAKgiIiISJZRABQRERHJMgqAIiIiIllGAVBEREQkyygAioiIiGQZBUARERGRLKMAKCIiIpJlFABFREREsowCoIiIiEiWUQAUERERyTKGaZpmqhuRqUzTJByOdJ/VaiEUCqe4RZlBfZU89VXy1FfJU18lT32VPPVV8iwWA8MwUtoGBUARERGRLKMhYBEREZEsowAoIiIikmUUAEVERESyjAKgiIiISJZRABQRERHJMgqAIiIiIllGAVBEREQkyygAioiIiGQZBUARERGRLKMAKCIiIpJlFABFREREsowCoIiIiEiWUQDsgs2bN3PFFVcwefJkZsyYwb333ovf7091s3rV1q1bufXWW7nwwgsZP348559//mHPe+655zj33HOZOHEiF1xwAW+++Wa7cxoaGli6dCmnnnoqU6ZMYeHChezbt6+n30KvefXVV/nJT35CRUUFkydP5sILL+T555/HNM2E89RX8NZbb/Gv//qvnHbaaZx44onMmjWLu+++m4aGhoTz3njjDS644AImTpzIueeeywsvvNDuWn6/n5///OfMmDGDyZMnc8UVV1BVVdVbb6VXNTU1UVFRwdixY/n4448THtPnCl588UXGjh3b7s99992XcJ76qtUf//hHvvOd7zBx4kSmTZvGj370I5qbm+OP63cQfvjDHx72czV27FheeeWV+Hlp97kypVPq6urMGTNmmP/yL/9iVlZWms8995x58sknm3fccUeqm9ar/vKXv5gVFRXmddddZ55//vnmeeed1+6cl19+2Rw7dqz5wAMPmOvXrzdvueUWc/z48eaGDRsSzps/f75ZUVFhvvLKK+Zf//pX8/zzzzcvuOACMxAI9NK76Vnf//73zcWLF5uvvPKK+fbbb5v33XefecIJJ5gPP/xw/Bz1VcT//M//mD//+c/NNWvWmO+8847529/+1jz11FPNK664In7OP/7xD3PcuHHmLbfcYq5fv9584IEHzLFjx5qvvvpqwrVuueUW8+STTzafe+45s7Ky0rz00kvN008/3fR4PL39tnrcvffea3796183x4wZY3700Ufx4/pcRbzwwgvmmDFjzMrKSnPDhg3xP7t27Yqfo75q9dhjj5lTpkwxly9fbr777rvmmjVrzNtuu81sbGw0TVO/gzFffvllwudpw4YN5qJFi8zx48ebBw8eNE0zPT9XCoCdtGzZMnPy5MlmbW1t/Ngzzzxjjhs3ztyzZ0/qGtbLQqFQ/PslS5YcNgCec8455k9/+tOEY5dccon5ox/9KP7z+++/b44ZM8b829/+Fj+2efNmc+zYseYrr7zSAy3vfbH/ELR18803m1OnTo33o/rqyP77v//bHDNmTPz3a/78+eYll1yScM5Pf/pTc/bs2fGfd+/ebY4bN8585pln4sdqa2vNyZMnmytWrOidhveSr776ypw8ebL5hz/8oV0A1OcqIhYAD/e7GKO+iti8ebM5fvx483//93+PeI5+B4/srLPOMq+88sr4z+n4udIQcCdVVlYyffp0ioqK4sdmz55NOBxm3bp1qWtYL7NYjv4R2r59O1u2bGH27NkJx+fMmcP69evjQ+aVlZW43W5mzJgRP6e8vJxx48ZRWVnZ/Q1PgZKSknbHxo0bR2NjI16vV311DLHftUAggN/v59133+Vb3/pWwjlz5sxh8+bN7NixA4C1a9cSDocTzisqKmLGjBl9rq/uvPNO5s6dy6hRoxKO63OVPPVVqxdffJGhQ4fyjW9847CP63fwyN5//3127NjBt7/9bSB9P1cKgJ1UVVVFeXl5wjG3201ZWVmfmtvQVbG+OPQfpdGjRxMIBNi+fXv8vFGjRmEYRsJ55eXlfbo/33vvPQYMGEB+fr766jBCoRAtLS188sknPProo5x11lkMHTqUbdu2EQgE2v0Ojh49Gmj93FVVVVFaWkphYWG78/pSX61Zs4ZNmzZxzTXXtHtMn6v2zj//fMaNG8esWbNYvnw5oVAIUF+19eGHHzJmzBgee+wxpk+fzoknnsjcuXP58MMPAfQ7eBQvv/wyubm5zJo1C0jfz5Wt26+YJTweD263u93xwsJC6uvrU9Ci9BTri0P7KvZz7HGPx0NBQUG75xcWFrJx48YebmVq/POf/2T16tUsWbIEUF8dzplnnsnevXsBOP300/nFL34BdL2v3G53n/k99fl83HPPPSxevJj8/Px2j+tz1aqsrIzrrruOk046CcMweOONN3jwwQfZu3cvt956q/qqjf3797Nx40Y2bdrEbbfdhsvlYtmyZcyfP5/XXntNv4NHEAwGefXVVznrrLPIzc0F0vd3UAFQJAX27NnD4sWLmTZtGvPmzUt1c9LWihUr8Pl8fPXVVzz++OP8+Mc/5sknn0x1s9LK448/TmlpKd/73vdS3ZS0d/rpp3P66afHf545cyZOp5OnnnqKH//4xylsWfoxTROv18svf/lLTjjhBABOOukkzjrrLJ5++mlmzpyZ4hamp3Xr1lFTU3PEHTHSiYaAO8ntdrfbkgIiSf7QUnc2i/XFoX3l8XgSHne73TQ2NrZ7fl/sT4/Hw5VXXklRUREPP/xwfB6l+qq9E044gSlTpnDxxRfz2GOP8e677/KXv/yly33l8Xj6RF/t3LmTJ554goULF9LQ0IDH48Hr9QLg9XppamrS5+oYZs+eTSgU4rPPPlNfteF2uykqKoqHP4jM3Rs/fjxfffWVfgeP4OWXX6aoqCghIKfr50oBsJMONybf0NDA/v37282JyGaxvji0r6qqqrDb7QwbNix+XnV1dbs98aqrq/tUfzY3N3P11VfT0NDAr371q4Ryv/rq6MaOHYvdbmfbtm0MHz4cu91+2L6C1r4sLy/nwIED7YaaDjeHNxPt2LGDQCDAVVddxde+9jW+9rWvxStZ8+bN44orrtDnqgPUV62OO+64Iz7W0tKi38HDaG5u5q9//Svf+ta3sNvt8ePp+rlSAOykiooK3n777XiCh8hEbIvFkrCCJ9sNGzaMkSNHsmbNmoTjq1evZvr06TgcDiDSn/X19axfvz5+TnV1NZ9++ikVFRW92uaeEgwGWbRoEVVVVfzqV79iwIABCY+rr47uww8/JBAIMHToUBwOB9OmTePPf/5zwjmrV69m9OjRDB06FIgM8VksFl577bX4OfX19axdu7ZP9NW4ceP4zW9+k/DnpptuAuCOO+7gtttu0+fqGFavXo3VamX8+PHqqzbOPPNM6urq+Oyzz+LHamtr+eSTT5gwYYJ+Bw/jjTfewOv1xlf/xqTr50pzADtp7ty5/Pa3v+Waa67h6quvZu/evdx7773MnTu33T/sfZnP5+Ott94CIsNRjY2N8Q/5qaeeSklJCddddx033HADw4cPZ9q0aaxevZqPPvqIp59+On6dKVOmMHPmTJYuXcqSJUtwOp088MADjB07lnPOOScl76273XHHHbz55pvceOONNDY28sEHH8QfGz9+PA6HQ30Vde2113LiiScyduxYcnJy+Pzzz1m1ahVjx47l7LPPBuAnP/kJ8+bN4/bbb2f27Nm8++67vPzyyzzwwAPx6wwcOJCLLrqIe++9F4vFwoABA1i+fDkFBQXMnTs3VW+v27jdbqZNm3bYxyZMmMCECRMA9LmKWrBgAdOmTWPs2LEAvP766zz77LPMmzePsrIyQH0Vc/bZZzNx4kQWLlzI4sWLcTqdrFixAofDwaWXXgrod/BQL730EoMHD+bkk09u91hafq66fWfBLPLVV1+Zl112mTlp0iRz+vTp5j333GO2tLSkulm9avv27eaYMWMO++edd96Jn/fss8+a3/zmN80JEyaY559/vvnGG2+0u5bH4zFvuukm85RTTjEnT55sXnvttX1qU+0zzzzziH21ffv2+HnqK9Ncvny5eeGFF5pTpkwxJ0+ebJ533nnmgw8+aDY0NCScF9spf8KECeY3v/lN87nnnmt3rZaWFvOee+4xp0+fbk6aNMm8/PLLza+++qq33kqve+edd9ptBG2a+lyZpmn+7Gc/M8855xxz0qRJ5oknnmief/755lNPPWWGw+GE89RXEQcPHjRvuOEG8+STTzYnTZpkzp8/3/zyyy8TztHvYERdXZ05YcIE89577z3iOen2uTJM85DBZhERERHp0zQHUERERCTLKACKiIiIZBkFQBEREZEsowAoIiIikmUUAEVERESyjAKgiIiISJZRABQRERHJMgqAIiIiIllGAVBEREQkyygAioiIiGQZBUARERGRLKMAKCIiIpJlFABFREREsowCoIiIiEiWUQAUERERyTIKgCIiIiJZRgFQREREJMsoAIqIiIhkGQVAERERkSyjACgiIiKSZf5/ey8htgMwecMAAAAASUVORK5CYII=' width=640.0/>\n",
       "            </div>\n",
       "        "
      ],
      "text/plain": [
       "Canvas(toolbar=Toolbar(toolitems=[('Home', 'Reset original view', 'home', 'home'), ('Back', 'Back to previous …"
      ]
     },
     "metadata": {},
     "output_type": "display_data"
    }
   ],
   "source": [
    "# Plot\n",
    "fig, ax = pl.subplots()\n",
    "ax.plot(tt, S_t, label='S', color='b')\n",
    "ax.plot(tt, I_t, label='I', color='r')\n",
    "ax.plot(tt, R_t, label='R', color='g')\n",
    "ax.legend()\n",
    "ax.set_xlim(-3,700)\n",
    "fig.tight_layout()"
   ]
  },
  {
   "cell_type": "markdown",
   "id": "65f3e229-6b1a-4df6-b921-5b8aee4ec1eb",
   "metadata": {},
   "source": [
    "## Let us play around with the parameters and look at the solution\n",
    "Try to change the values of $\\beta$ and $\\tau$ and observe the change in the solution. To make this feasible, I have created the following sliders to facilitate this task."
   ]
  },
  {
   "cell_type": "code",
   "execution_count": 5,
   "id": "79bf66a9-3d1b-4b15-92a2-889107800e40",
   "metadata": {},
   "outputs": [
    {
     "data": {
      "application/vnd.jupyter.widget-view+json": {
       "model_id": "73c23eac2229452289e09f4d6da99f71",
       "version_major": 2,
       "version_minor": 0
      },
      "text/plain": [
       "interactive(children=(FloatSlider(value=1e-06, description='beta:', max=0.0001, min=1e-06, readout_format='0.4…"
      ]
     },
     "execution_count": 5,
     "metadata": {},
     "output_type": "execute_result"
    }
   ],
   "source": [
    "# Define the model\n",
    "def SIR_model(tt, y0, beta, tau):\n",
    "    State_t = odeint(dStatedt, y0, tt, args=(beta, tau))\n",
    "    # State_t is a numpy array with number of columns = len(y0) and number of rows = len(tt)\n",
    "    return State_t\n",
    "    \n",
    "\n",
    "# Create the interactive plot\n",
    "def plot_sir(beta, tau):\n",
    "    tt = np.linspace(0, max_time_days, number_intervals)\n",
    "    R0 = 0    # Initial recovered\n",
    "    S0 = N - I0 - R0 # Initial susceptible\n",
    "    y0 = [S0, I0, R0]\n",
    "    State_t = SIR_model(tt, y0, beta, tau)\n",
    "    S_t = State_t[:, 0]\n",
    "    I_t = State_t[:, 1]\n",
    "    R_t = State_t[:, 2]\n",
    "    pl.figure(figsize=(7,5))\n",
    "    pl.plot(tt, S_t, label='S', color='b')\n",
    "    pl.plot(tt, I_t, label='I', color='r')\n",
    "    pl.plot(tt, R_t, label='R', color='g')\n",
    "    pl.title('Interactive SIR model')\n",
    "    pl.xlabel('Time (days)')\n",
    "    pl.ylabel('Number of individuals')\n",
    "    pl.xlim(-3,800)\n",
    "    pl.grid(True, linestyle='--', alpha=0.7)\n",
    "    pl.axhline(0, color='black', linewidth=0.5)\n",
    "    pl.axvline(0, color='black', linewidth=0.5)\n",
    "    pl.legend()\n",
    "    pl.show()\n",
    "    \n",
    "    \n",
    "# Create sliders for beta and tau\n",
    "beta_slider = FloatSlider(value=1e-6, min=1e-6, max=1e-4, step=1e-6, readout_format='0.4s', description='beta:')\n",
    "tau_slider = FloatSlider(value=21, min=1, max=90, step=1, description='tau:')\n",
    "\n",
    "\n",
    "# Generate the interactive widget\n",
    "interactive_plot = interactive(plot_sir, beta=beta_slider, tau=tau_slider) \n",
    "output = interactive_plot.children[-1]\n",
    "output.layout.height = '400px'\n",
    "interactive_plot"
   ]
  },
  {
   "cell_type": "markdown",
   "id": "ef02ef36-d8c8-4298-8faf-94e7add04db9",
   "metadata": {},
   "source": [
    "#### Questions:\n",
    "\n",
    "Q1. Leave $\\tau=21$, what happens when you set $\\beta$ to $1 \\micro = 10^{-6}$, do we have an epidemic? Why and Why not? What is $\\mathbb{R_0}$?\n",
    "There would be no outbreak; nothing is happening in Zalatola.\n",
    "\n",
    "Q2. Leave $\\tau=21$, increase $\\beta$ slowly until you get an epidemic, what is $\\mathbb{R_0}$ now?\n",
    "\n",
    "Q3. What is the maximum number of infected individuals in the scenario in Q2?\n"
   ]
  },
  {
   "cell_type": "markdown",
   "id": "bc8f6751-6f63-4610-a64f-3927d8e2eac3",
   "metadata": {},
   "source": [
    "# Applying the model to COVID-19 in Zalatola\n",
    "* Now we are equibed with a solved mathematical model that we can fit to the case of Zalatola. We need first to plot the data points along with the model. Remember we have the following data points:\n",
    "\n",
    "\n",
    "| days after 9/12/2020 | number of infected |\n",
    "|------|--------------------|\n",
    "| 20   |   105               |\n",
    "| 30   |   796              |\n",
    "| 40   |   3385             |\n",
    "\n",
    "* If we consider the calendar time 9/12/2020 as the 0-time on the time axis (x-axis), then:"
   ]
  },
  {
   "cell_type": "code",
   "execution_count": 6,
   "id": "fb2df7c7-b56c-4d44-ba29-25861583ad79",
   "metadata": {},
   "outputs": [
    {
     "data": {
      "application/vnd.jupyter.widget-view+json": {
       "model_id": "8d2c9632f1f14ce4a49130fb5202d1d5",
       "version_major": 2,
       "version_minor": 0
      },
      "text/plain": [
       "interactive(children=(FloatSlider(value=1e-06, description='beta:', max=0.0001, min=1e-06, readout_format='0.4…"
      ]
     },
     "execution_count": 6,
     "metadata": {},
     "output_type": "execute_result"
    }
   ],
   "source": [
    "# Define the model\n",
    "def SIR_model(tt, y0, beta, tau):\n",
    "    State_t = odeint(dStatedt, y0, tt, args=(beta, tau))\n",
    "    # State_t is a numpy array with number of columns = len(y0) and number of rows = len(tt)\n",
    "    return State_t\n",
    "    \n",
    "\n",
    "# Create the interactive plot\n",
    "def plot_sir(beta, tau):\n",
    "    tt = np.linspace(0, max_time_days, number_intervals)\n",
    "    R0 = 0    # Initial recovered\n",
    "    S0 = N - I0 - R0 # Initial susceptible\n",
    "    y0 = [S0, I0, R0]\n",
    "    State_t = SIR_model(tt, y0, beta, tau)\n",
    "    S_t = State_t[:, 0]\n",
    "    I_t = State_t[:, 1]\n",
    "    R_t = State_t[:, 2]\n",
    "    pl.figure(figsize=(7,5))\n",
    "    pl.plot([20,30,40],[105,796,3385], marker='*', markersize=18, linewidth=0, color='g', label='Data')\n",
    "    pl.plot(tt, S_t, label='S', color='b')\n",
    "    pl.plot(tt, I_t, label='I', color='r')\n",
    "    pl.plot(tt, R_t, label='R', color='g')\n",
    "    pl.title('Interactive SIR model')\n",
    "    pl.xlabel('Time (days)')\n",
    "    pl.ylabel('Number of individuals')\n",
    "    pl.xlim(-3,120)\n",
    "    pl.ylim(0,5000)\n",
    "    pl.grid(True, linestyle='--', alpha=0.7)\n",
    "    pl.axhline(0, color='black', linewidth=0.5)\n",
    "    pl.axvline(0, color='black', linewidth=0.5)\n",
    "    pl.legend()\n",
    "    pl.show()\n",
    "    \n",
    "    \n",
    "# Create sliders for beta and tau\n",
    "beta_slider = FloatSlider(value=1e-6, min=1e-6, max=1e-4, step=1e-6, readout_format='0.4s', description='beta:')\n",
    "tau_slider = FloatSlider(value=21, min=1, max=90, step=1, description='tau:')\n",
    "\n",
    "\n",
    "# Generate the interactive widget\n",
    "interactive_plot = interactive(plot_sir, beta=beta_slider, tau=tau_slider) \n",
    "output = interactive_plot.children[-1]\n",
    "output.layout.height = '400px'\n",
    "interactive_plot"
   ]
  },
  {
   "cell_type": "markdown",
   "id": "e81a0fbc-cae2-4153-a996-83541afaa41f",
   "metadata": {},
   "source": [
    "#### Questions\n",
    "\n",
    "Q1. Start with the lowest $\\tau$ in the slider and change $\\beta$, is there a value of $\\beta$ that makes the red curve pass through the three green data points?\n",
    "\n",
    "Q2. Increase $\\tau$ to 12 and try again, can you find a fit to the data points? If so recorded in the table below and fill in the rest for this row of parameter values.\n",
    "no :(\n",
    "\n",
    "Q3. Start over, move $\\tau$ to 13, 14 15, ...,21 days and slowly increase $\\beta$ in each case to get a fit. Record each of your findings again in the table below.\n",
    "\n",
    "Q4. Why there are multiple values for $\\beta$ and $\\tau$ that can fit the given data? (essentially each of the epidemics in the table have the same initial growth in the number of infections that the data points represent, this highlights the need to include uncertainity in model fetting so that we do not have a single point estimate to rely on for decision making).\n",
    "\n",
    "Q5. If you were a policy maker in Zalatola, which maximum number of infected you think is plausible upon which to make decisions? \n",
    "\n",
    "#### Class split into 10 groups, each group works with one line from the table below.\n",
    "Q6. POLICY-MAKER: Is there an outbreak in Zalatola (i.e. would COVID-19 spread in Zalatola)? If so how much is the expected maximum number of infections and how does the outbreak look like over time?\n",
    "    \n",
    "    YOU: (Hint: The bottom icon can save your plot)\n",
    "\n",
    "Q7. POLICY-MAKER: Would the number of infected individuals ever exceed 3900? If so at what time?\n",
    "\n",
    "    YOU: (Hint hover over the graph to get points)\n",
    "\n",
    "\n",
    "| $\\tau$  (days)| $\\beta$ (new infections/day/contact) | $\\mathbb{R_0}$ (new infections/index case)| maximum number infected | day maximum number infected reached |\n",
    "|------|----------------|---------------|-----------------------|----------------------------------|\n",
    "| 12   |             3.1e-6   |      4.32         |             3796          |              45.7                    |\n",
    "| 13   |                |               |                       |                                  |\n",
    "| 14   |                |               |                       |                                  |\n",
    "| 15   |                |               |                       |                                  |\n",
    "| 16   |                |               |                       |                                  |\n",
    "| 17   |                |               |                       |                                  |\n",
    "| 18   |                |               |                       |                                  |\n",
    "| 19   |                |               |                       |                                  |\n",
    "| 20   |                |               |                       |                                  |\n",
    "| 21   |                |               |                       |                                  |\n",
    "\n",
    "## Intervention against COVID-19 in Zalatola\n",
    "\n",
    "Obviously we have several scenarios that fit our data with alarming maximum number of infections. Now that we know things are going in the wrong direction, how do we alter that direction? This is called intervention. Interventions can be:\n",
    "1. Pharmaceutical: providing a drug. And can be:\n",
    "    A. Therapeutical: drug is provided to infected individuals ($I$ individuals) to minimize the likelihood of hospitalization.\n",
    "    B. Preventive: drug is provided to unifected individuals ($S$ individuals) to minimize the likelihood of infection.\n",
    "2. Non-pharmaceutical: strategies that aims to reduce infectious contacts=$S\\times I$ or the fraction of infectious contacts that leads to transmission $\\beta$ at least for some duration of time.\n",
    "\n",
    "#### Question\n",
    "Classify each of the following interventions to the one of the above categories and describe its impact: Vaccines, Lockdown, Quarantine of exposed or infected individuals, Stay at home when sick policy, a drug that alleviates the symptoms of COVID-19. \n",
    "\n",
    "Now we turn to the question by the policy-maker:\n",
    "POLICY-MAKER: would a 10 day lockdown starting on day 40 bring the maximum number of infected below 3900?\n",
    "To simulate, the impact of this lockdown, we set $\\beta$ (fraction of infectious contacts that lead to transmission) to decrease by 95% for 10 days starting from day 40\n",
    "\n",
    "$$\n",
    "\\beta(t) = \\begin{cases} \n",
    "    \\beta_0 & \\text{if } t <40 \\ \\ \\text{or } t>=50 \\\\\n",
    "     0.05\\times \\beta_0 & \\text{if } 40 \\le t \\le 49\n",
    "\\end{cases}\n",
    "$$"
   ]
  },
  {
   "cell_type": "code",
   "execution_count": 7,
   "id": "b9e0afef-9966-4245-abdc-173e42c16e53",
   "metadata": {},
   "outputs": [],
   "source": [
    "# First we define the instantaneous rate of change\n",
    "def dStatedt2(y, t, beta, tau):\n",
    "    \"\"\"\n",
    "       Function defining the rate of change of\n",
    "       state variables: S, I, R at time t\n",
    "       Args:\n",
    "         y --> array of size 1x3 defining the values at t\n",
    "         t --> time at which to calculate the rate of change\n",
    "         beta, tau, .. --> model paramters\n",
    "       Output: tuple (dS/dt, dI/dt, dR/dt) at t\n",
    "    \"\"\"\n",
    "    # y is a numpy array/list with S=y[0], I=y[1], R=y[3]\n",
    "    S, I, R = y\n",
    "    # beta is now beta_0\n",
    "    beta_t = beta if (t<40 or t>=50) else 0.05*beta\n",
    "    dS_dt = -beta_t * S * I\n",
    "    # Notice we are writing this for computers, we need to make sure \n",
    "    # no division by zero is encountered.\n",
    "    if tau <= 1e-12:\n",
    "        tau = 1E-5\n",
    "    dI_dt = beta_t * S * I - 1/tau * I\n",
    "    dR_dt = 1/tau * I\n",
    "    return [dS_dt, dI_dt, dR_dt]\n",
    "\n",
    "# Initial conditions\n",
    "N = 10000  # Total population\n",
    "I0 = 1    # Initial infected\n",
    "R0 = 0    # Initial recovered\n",
    "S0 = N - I0 - R0 # Initial susceptible\n"
   ]
  },
  {
   "cell_type": "code",
   "execution_count": 11,
   "id": "48b9ac7e-2e2e-411a-916d-4f28d1490709",
   "metadata": {},
   "outputs": [
    {
     "data": {
      "application/vnd.jupyter.widget-view+json": {
       "model_id": "21b83b196d4d433d8e2a4b68b30ef156",
       "version_major": 2,
       "version_minor": 0
      },
      "text/plain": [
       "interactive(children=(FloatSlider(value=1e-06, description='beta:', max=0.0001, min=1e-06, readout_format='0.4…"
      ]
     },
     "execution_count": 11,
     "metadata": {},
     "output_type": "execute_result"
    }
   ],
   "source": [
    "# Define the model\n",
    "def SIR_model(tt, y0, beta, tau):\n",
    "    State_t = odeint(dStatedt2, y0, tt, args=(beta, tau))\n",
    "    # State_t is a numpy array with number of columns = len(y0) and number of rows = len(tt)\n",
    "    return State_t\n",
    "    \n",
    "\n",
    "# Create the interactive plot\n",
    "def plot_sir(beta, tau):\n",
    "    tt = np.linspace(0, max_time_days, number_intervals)\n",
    "    R0 = 0    # Initial recovered\n",
    "    S0 = N - I0 - R0 # Initial susceptible\n",
    "    y0 = [S0, I0, R0]\n",
    "    State_t = SIR_model(tt, y0, beta, tau)\n",
    "    S_t = State_t[:, 0]\n",
    "    I_t = State_t[:, 1]\n",
    "    R_t = State_t[:, 2]\n",
    "    pl.figure(figsize=(7,5))\n",
    "    pl.plot([20,30,40],[105,796,3385], marker='*', markersize=18, linewidth=0, color='g', label='Data')\n",
    "    pl.plot(tt, S_t, label='S', color='b')\n",
    "    pl.plot(tt, I_t, label='I', color='r')\n",
    "    pl.plot(tt, R_t, label='R', color='g')\n",
    "    pl.title('Interactive SIR model')\n",
    "    pl.xlabel('Time (days)')\n",
    "    pl.ylabel('Number of individuals')\n",
    "    pl.xlim(-3,120)\n",
    "    pl.ylim(0,5000)\n",
    "    pl.grid(True, linestyle='--', alpha=0.7)\n",
    "    pl.axhline(0, color='black', linewidth=0.5)\n",
    "    pl.axvline(0, color='black', linewidth=0.5)\n",
    "    pl.legend()\n",
    "    pl.show()\n",
    "    \n",
    "    \n",
    "# Create sliders for beta and tau\n",
    "beta_slider = FloatSlider(value=1e-6, min=1e-6, max=1e-4, step=1e-6, readout_format='0.4s', description='beta:')\n",
    "tau_slider = FloatSlider(value=21, min=1, max=90, step=1, description='tau:')\n",
    "\n",
    "\n",
    "# Generate the interactive widget\n",
    "interactive_plot = interactive(plot_sir, beta=beta_slider, tau=tau_slider) \n",
    "output = interactive_plot.children[-1]\n",
    "output.layout.height = '400px'\n",
    "interactive_plot"
   ]
  },
  {
   "cell_type": "markdown",
   "id": "30549152-f174-4c12-86b5-2914ed1cbffd",
   "metadata": {},
   "source": [
    "#### Questions\n",
    "What can you answer the POLICY-MAKER, is it possible to lower the maximum number of infections with their suggested intervention?\n",
    "\n",
    "YOU:\n",
    "\n",
    "## Outbreak in 50% vaccinated Zalaolans\n",
    "Now we study the outbreak in Zalatola if 50% of the population were vaccinated by a fully protective vaccine with life-long protection (Excellent vaccine!). Remeber that when the outbreak happens in population with a fraction $f$ that is vaccinated, the infectious contacts for one infected individual would be: \n",
    "\n",
    "$$1\\times(1-f)S0$$\n",
    "\n",
    "and during their infection duration $\\tau$ the total number of secondary infections from this single case (basic reproduction number) would be:\n",
    "\n",
    "$$\\mathbb{R_0} =  \\beta(1-f)S0 \\tau$$\n",
    "\n",
    "So when $f=0.5$ that means \\mathbb{R_0} is halved!\n",
    "\n",
    "But how do simulate an outbreak with this scenario? Well we would have the same outbreak but now only $(1-f)S$ can be infected at any time (i.e. are susceptible), alternatively we can just replace $\\beta SI$ by $(1-f)\\beta SI$"
   ]
  },
  {
   "cell_type": "code",
   "execution_count": 12,
   "id": "91de5c24-1d19-4128-b1c9-7c7c42c41284",
   "metadata": {},
   "outputs": [],
   "source": [
    "# First we define the instantaneous rate of change\n",
    "def dStatedt3(y, t, beta, tau, fv):\n",
    "    \"\"\"\n",
    "       Function defining the rate of change of\n",
    "       state variables: S, I, R at time t\n",
    "       Args:\n",
    "         y --> array of size 1x3 defining the values at t\n",
    "         t --> time at which to calculate the rate of change\n",
    "         beta, tau, .. --> model paramters\n",
    "       Output: tuple (dS/dt, dI/dt, dR/dt) at t\n",
    "    \"\"\"\n",
    "    # y is a numpy array/list with S=y[0], I=y[1], R=y[3]\n",
    "    S, I, R = y\n",
    "    # beta is now beta_0\n",
    "    assert 0 <= fv <= 1, f\"{fv} must be between 0 and 1\"\n",
    "    beta_t = (1.0 - fv)*beta\n",
    "    dS_dt = -beta_t * S * I\n",
    "    # Notice we are writing this for computers, we need to make sure \n",
    "    # no division by zero is encountered.\n",
    "    if tau <= 1e-12:\n",
    "        tau = 1E-5\n",
    "    dI_dt = beta_t * S * I - 1/tau * I\n",
    "    dR_dt = 1/tau * I\n",
    "    return [dS_dt, dI_dt, dR_dt]\n",
    "\n",
    "# Initial conditions\n",
    "N = 10000  # Total population\n",
    "I0 = 1    # Initial infected\n",
    "R0 = 0    # Initial recovered\n",
    "S0 = N - I0 - R0 # Initial susceptible"
   ]
  },
  {
   "cell_type": "code",
   "execution_count": 13,
   "id": "7aa0a7da-c624-47de-be16-e5ac493d79aa",
   "metadata": {},
   "outputs": [
    {
     "data": {
      "application/vnd.jupyter.widget-view+json": {
       "model_id": "9f6d9833985f434ea293074dd73989a5",
       "version_major": 2,
       "version_minor": 0
      },
      "text/plain": [
       "interactive(children=(FloatSlider(value=1e-06, description='beta:', max=0.0001, min=1e-06, readout_format='0.4…"
      ]
     },
     "execution_count": 13,
     "metadata": {},
     "output_type": "execute_result"
    }
   ],
   "source": [
    "# Define the model\n",
    "def SIR_model(tt, y0, beta, tau, fv):\n",
    "    State_t = odeint(dStatedt3, y0, tt, args=(beta, tau, fv))\n",
    "    # State_t is a numpy array with number of columns = len(y0) and number of rows = len(tt)\n",
    "    return State_t\n",
    "    \n",
    "\n",
    "# Create the interactive plot\n",
    "def plot_sir(beta, tau, fv):\n",
    "    tt = np.linspace(0, max_time_days, number_intervals)\n",
    "    R0 = 0    # Initial recovered\n",
    "    S0 = N - I0 - R0 # Initial susceptible\n",
    "    y0 = [S0, I0, R0]\n",
    "    State_t = SIR_model(tt, y0, beta, tau, fv)\n",
    "    S_t = State_t[:, 0]\n",
    "    I_t = State_t[:, 1]\n",
    "    R_t = State_t[:, 2]\n",
    "    pl.figure(figsize=(7,5))\n",
    "    pl.plot([20,30,40],[105,796,3385], marker='*', markersize=18, linewidth=0, color='g', label='Data')\n",
    "    pl.plot(tt, S_t, label='S', color='b')\n",
    "    pl.plot(tt, I_t, label='I', color='r')\n",
    "    pl.plot(tt, R_t, label='R', color='g')\n",
    "    pl.title('Interactive SIR model')\n",
    "    pl.xlabel('Time (days)')\n",
    "    pl.ylabel('Number of individuals')\n",
    "    pl.xlim(-5,800)\n",
    "    pl.ylim(-5,11000)\n",
    "    pl.grid(True, linestyle='--', alpha=0.7)\n",
    "    pl.axhline(0, color='black', linewidth=0.5)\n",
    "    pl.axvline(0, color='black', linewidth=0.5)\n",
    "    pl.legend()\n",
    "    pl.show()\n",
    "    \n",
    "    \n",
    "# Create sliders for beta and tau\n",
    "beta_slider = FloatSlider(value=1e-6, min=1e-6, max=1e-4, step=1e-6, readout_format='0.4s', description='beta:')\n",
    "tau_slider = FloatSlider(value=21, min=1, max=90, step=1, description='tau:')\n",
    "fv_slider = FloatSlider(value=0.5, min=0, max=0.999, step=0.1, description='fv:')\n",
    "\n",
    "\n",
    "# Generate the interactive widget\n",
    "interactive_plot = interactive(plot_sir, beta=beta_slider, tau=tau_slider, fv=fv_slider) \n",
    "output = interactive_plot.children[-1]\n",
    "output.layout.height = '400px'\n",
    "interactive_plot"
   ]
  },
  {
   "cell_type": "markdown",
   "id": "3ef19514-58d7-4527-bab4-7b5c6a37669f",
   "metadata": {},
   "source": [
    "#### Qustions\n",
    "\n",
    "Q1. POLICY-MAKER: What is the maximum number of infected individuals if a fully effective vaccine was available and 50% of Zalatola population were vaccinated before Septemebr 12,2020?\n",
    "\n",
    "YOU:"
   ]
  },
  {
   "cell_type": "code",
   "execution_count": null,
   "id": "8dfcb0fb-4067-4d57-bc6e-59c4a21b19a2",
   "metadata": {},
   "outputs": [],
   "source": []
  }
 ],
 "metadata": {
  "kernelspec": {
   "display_name": "Python 3 (ipykernel)",
   "language": "python",
   "name": "python3"
  },
  "language_info": {
   "codemirror_mode": {
    "name": "ipython",
    "version": 3
   },
   "file_extension": ".py",
   "mimetype": "text/x-python",
   "name": "python",
   "nbconvert_exporter": "python",
   "pygments_lexer": "ipython3",
   "version": "3.12.3"
  }
 },
 "nbformat": 4,
 "nbformat_minor": 5
}
